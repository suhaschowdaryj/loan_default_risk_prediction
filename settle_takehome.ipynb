{
 "cells": [
  {
   "cell_type": "code",
   "execution_count": 2,
   "metadata": {
    "id": "bqb0GK4vLYvf"
   },
   "outputs": [],
   "source": [
    "import pandas as pd\n",
    "import numpy as np\n",
    "import seaborn as sns\n",
    "import plotly\n",
    "import plotly.express as px\n",
    "import matplotlib.pyplot as plt\n",
    "from IPython.display import display\n",
    "%matplotlib inline"
   ]
  },
  {
   "cell_type": "markdown",
   "metadata": {
    "id": "aVDiJJVaLjDi"
   },
   "source": [
    "# 1. Load dataset"
   ]
  },
  {
   "cell_type": "code",
   "execution_count": 3,
   "metadata": {
    "colab": {
     "base_uri": "https://localhost:8080/"
    },
    "collapsed": true,
    "id": "9C0FLlijLjeQ",
    "outputId": "019034c0-3095-4de9-c2d5-a3bb4b7a142e"
   },
   "outputs": [
    {
     "name": "stderr",
     "output_type": "stream",
     "text": [
      "C:\\Users\\Suhas\\AppData\\Roaming\\Python\\Python37\\site-packages\\IPython\\core\\interactiveshell.py:3146: DtypeWarning: Columns (19) have mixed types.Specify dtype option on import or set low_memory=False.\n",
      "  interactivity=interactivity, compiler=compiler, result=result)\n"
     ]
    }
   ],
   "source": [
    "df = pd.read_csv('LoanData.csv.gz', compression='gzip', skiprows=1, error_bad_lines=False)"
   ]
  },
  {
   "cell_type": "markdown",
   "metadata": {
    "id": "lKedmSBkLvBT"
   },
   "source": [
    "# 2. Exploratory data analysis"
   ]
  },
  {
   "cell_type": "code",
   "execution_count": 4,
   "metadata": {
    "colab": {
     "base_uri": "https://localhost:8080/",
     "height": 412
    },
    "id": "RGoxGIH8Ll7t",
    "outputId": "6afc8523-4c84-4183-8b9e-40f6d974b19b"
   },
   "outputs": [
    {
     "data": {
      "text/html": [
       "<div>\n",
       "<style scoped>\n",
       "    .dataframe tbody tr th:only-of-type {\n",
       "        vertical-align: middle;\n",
       "    }\n",
       "\n",
       "    .dataframe tbody tr th {\n",
       "        vertical-align: top;\n",
       "    }\n",
       "\n",
       "    .dataframe thead th {\n",
       "        text-align: right;\n",
       "    }\n",
       "</style>\n",
       "<table border=\"1\" class=\"dataframe\">\n",
       "  <thead>\n",
       "    <tr style=\"text-align: right;\">\n",
       "      <th></th>\n",
       "      <th>id</th>\n",
       "      <th>member_id</th>\n",
       "      <th>loan_amnt</th>\n",
       "      <th>funded_amnt</th>\n",
       "      <th>funded_amnt_inv</th>\n",
       "      <th>term</th>\n",
       "      <th>int_rate</th>\n",
       "      <th>installment</th>\n",
       "      <th>grade</th>\n",
       "      <th>sub_grade</th>\n",
       "      <th>emp_title</th>\n",
       "      <th>emp_length</th>\n",
       "      <th>home_ownership</th>\n",
       "      <th>annual_inc</th>\n",
       "      <th>verification_status</th>\n",
       "      <th>issue_d</th>\n",
       "      <th>loan_status</th>\n",
       "      <th>pymnt_plan</th>\n",
       "      <th>url</th>\n",
       "      <th>desc</th>\n",
       "      <th>purpose</th>\n",
       "      <th>title</th>\n",
       "      <th>zip_code</th>\n",
       "      <th>addr_state</th>\n",
       "      <th>dti</th>\n",
       "      <th>delinq_2yrs</th>\n",
       "      <th>earliest_cr_line</th>\n",
       "      <th>fico_range_low</th>\n",
       "      <th>fico_range_high</th>\n",
       "      <th>inq_last_6mths</th>\n",
       "      <th>mths_since_last_delinq</th>\n",
       "      <th>mths_since_last_record</th>\n",
       "      <th>open_acc</th>\n",
       "      <th>pub_rec</th>\n",
       "      <th>revol_bal</th>\n",
       "      <th>revol_util</th>\n",
       "      <th>total_acc</th>\n",
       "      <th>initial_list_status</th>\n",
       "      <th>out_prncp</th>\n",
       "      <th>out_prncp_inv</th>\n",
       "      <th>...</th>\n",
       "      <th>tax_liens</th>\n",
       "      <th>tot_hi_cred_lim</th>\n",
       "      <th>total_bal_ex_mort</th>\n",
       "      <th>total_bc_limit</th>\n",
       "      <th>total_il_high_credit_limit</th>\n",
       "      <th>revol_bal_joint</th>\n",
       "      <th>sec_app_fico_range_low</th>\n",
       "      <th>sec_app_fico_range_high</th>\n",
       "      <th>sec_app_earliest_cr_line</th>\n",
       "      <th>sec_app_inq_last_6mths</th>\n",
       "      <th>sec_app_mort_acc</th>\n",
       "      <th>sec_app_open_acc</th>\n",
       "      <th>sec_app_revol_util</th>\n",
       "      <th>sec_app_open_act_il</th>\n",
       "      <th>sec_app_num_rev_accts</th>\n",
       "      <th>sec_app_chargeoff_within_12_mths</th>\n",
       "      <th>sec_app_collections_12_mths_ex_med</th>\n",
       "      <th>sec_app_mths_since_last_major_derog</th>\n",
       "      <th>hardship_flag</th>\n",
       "      <th>hardship_type</th>\n",
       "      <th>hardship_reason</th>\n",
       "      <th>hardship_status</th>\n",
       "      <th>deferral_term</th>\n",
       "      <th>hardship_amount</th>\n",
       "      <th>hardship_start_date</th>\n",
       "      <th>hardship_end_date</th>\n",
       "      <th>payment_plan_start_date</th>\n",
       "      <th>hardship_length</th>\n",
       "      <th>hardship_dpd</th>\n",
       "      <th>hardship_loan_status</th>\n",
       "      <th>orig_projected_additional_accrued_interest</th>\n",
       "      <th>hardship_payoff_balance_amount</th>\n",
       "      <th>hardship_last_payment_amount</th>\n",
       "      <th>debt_settlement_flag</th>\n",
       "      <th>debt_settlement_flag_date</th>\n",
       "      <th>settlement_status</th>\n",
       "      <th>settlement_date</th>\n",
       "      <th>settlement_amount</th>\n",
       "      <th>settlement_percentage</th>\n",
       "      <th>settlement_term</th>\n",
       "    </tr>\n",
       "  </thead>\n",
       "  <tbody>\n",
       "    <tr>\n",
       "      <th>0</th>\n",
       "      <td>68446771</td>\n",
       "      <td>NaN</td>\n",
       "      <td>7200</td>\n",
       "      <td>7200</td>\n",
       "      <td>7200</td>\n",
       "      <td>36 months</td>\n",
       "      <td>15.77%</td>\n",
       "      <td>252.32</td>\n",
       "      <td>D</td>\n",
       "      <td>D1</td>\n",
       "      <td>Bank Officer Senior Customer Care Spec.</td>\n",
       "      <td>&lt; 1 year</td>\n",
       "      <td>RENT</td>\n",
       "      <td>55000.0</td>\n",
       "      <td>Not Verified</td>\n",
       "      <td>Dec-2015</td>\n",
       "      <td>Fully Paid</td>\n",
       "      <td>n</td>\n",
       "      <td>https://lendingclub.com/browse/loanDetail.acti...</td>\n",
       "      <td>NaN</td>\n",
       "      <td>debt_consolidation</td>\n",
       "      <td>NaN</td>\n",
       "      <td>142xx</td>\n",
       "      <td>NY</td>\n",
       "      <td>17.35</td>\n",
       "      <td>0</td>\n",
       "      <td>Jun-2005</td>\n",
       "      <td>680</td>\n",
       "      <td>684</td>\n",
       "      <td>0</td>\n",
       "      <td>59.0</td>\n",
       "      <td>74.0</td>\n",
       "      <td>24</td>\n",
       "      <td>1</td>\n",
       "      <td>5938</td>\n",
       "      <td>69%</td>\n",
       "      <td>43</td>\n",
       "      <td>w</td>\n",
       "      <td>0.0</td>\n",
       "      <td>0.0</td>\n",
       "      <td>...</td>\n",
       "      <td>1</td>\n",
       "      <td>255047</td>\n",
       "      <td>275831</td>\n",
       "      <td>6700</td>\n",
       "      <td>246447</td>\n",
       "      <td>NaN</td>\n",
       "      <td>NaN</td>\n",
       "      <td>NaN</td>\n",
       "      <td>NaN</td>\n",
       "      <td>NaN</td>\n",
       "      <td>NaN</td>\n",
       "      <td>NaN</td>\n",
       "      <td>NaN</td>\n",
       "      <td>NaN</td>\n",
       "      <td>NaN</td>\n",
       "      <td>NaN</td>\n",
       "      <td>NaN</td>\n",
       "      <td>NaN</td>\n",
       "      <td>N</td>\n",
       "      <td>NaN</td>\n",
       "      <td>NaN</td>\n",
       "      <td>NaN</td>\n",
       "      <td>NaN</td>\n",
       "      <td>NaN</td>\n",
       "      <td>NaN</td>\n",
       "      <td>NaN</td>\n",
       "      <td>NaN</td>\n",
       "      <td>NaN</td>\n",
       "      <td>NaN</td>\n",
       "      <td>NaN</td>\n",
       "      <td>NaN</td>\n",
       "      <td>NaN</td>\n",
       "      <td>NaN</td>\n",
       "      <td>N</td>\n",
       "      <td>NaN</td>\n",
       "      <td>NaN</td>\n",
       "      <td>NaN</td>\n",
       "      <td>NaN</td>\n",
       "      <td>NaN</td>\n",
       "      <td>NaN</td>\n",
       "    </tr>\n",
       "    <tr>\n",
       "      <th>1</th>\n",
       "      <td>68367009</td>\n",
       "      <td>NaN</td>\n",
       "      <td>14025</td>\n",
       "      <td>14025</td>\n",
       "      <td>14025</td>\n",
       "      <td>60 months</td>\n",
       "      <td>18.49%</td>\n",
       "      <td>359.90</td>\n",
       "      <td>D</td>\n",
       "      <td>D5</td>\n",
       "      <td>accts payable</td>\n",
       "      <td>10+ years</td>\n",
       "      <td>MORTGAGE</td>\n",
       "      <td>39000.0</td>\n",
       "      <td>Verified</td>\n",
       "      <td>Dec-2015</td>\n",
       "      <td>Fully Paid</td>\n",
       "      <td>n</td>\n",
       "      <td>https://lendingclub.com/browse/loanDetail.acti...</td>\n",
       "      <td>NaN</td>\n",
       "      <td>debt_consolidation</td>\n",
       "      <td>Debt consolidation</td>\n",
       "      <td>546xx</td>\n",
       "      <td>WI</td>\n",
       "      <td>18.00</td>\n",
       "      <td>0</td>\n",
       "      <td>Aug-2001</td>\n",
       "      <td>675</td>\n",
       "      <td>679</td>\n",
       "      <td>1</td>\n",
       "      <td>NaN</td>\n",
       "      <td>NaN</td>\n",
       "      <td>12</td>\n",
       "      <td>0</td>\n",
       "      <td>15646</td>\n",
       "      <td>74.9%</td>\n",
       "      <td>21</td>\n",
       "      <td>w</td>\n",
       "      <td>0.0</td>\n",
       "      <td>0.0</td>\n",
       "      <td>...</td>\n",
       "      <td>0</td>\n",
       "      <td>72286</td>\n",
       "      <td>15646</td>\n",
       "      <td>8800</td>\n",
       "      <td>0</td>\n",
       "      <td>NaN</td>\n",
       "      <td>NaN</td>\n",
       "      <td>NaN</td>\n",
       "      <td>NaN</td>\n",
       "      <td>NaN</td>\n",
       "      <td>NaN</td>\n",
       "      <td>NaN</td>\n",
       "      <td>NaN</td>\n",
       "      <td>NaN</td>\n",
       "      <td>NaN</td>\n",
       "      <td>NaN</td>\n",
       "      <td>NaN</td>\n",
       "      <td>NaN</td>\n",
       "      <td>N</td>\n",
       "      <td>NaN</td>\n",
       "      <td>NaN</td>\n",
       "      <td>NaN</td>\n",
       "      <td>NaN</td>\n",
       "      <td>NaN</td>\n",
       "      <td>NaN</td>\n",
       "      <td>NaN</td>\n",
       "      <td>NaN</td>\n",
       "      <td>NaN</td>\n",
       "      <td>NaN</td>\n",
       "      <td>NaN</td>\n",
       "      <td>NaN</td>\n",
       "      <td>NaN</td>\n",
       "      <td>NaN</td>\n",
       "      <td>N</td>\n",
       "      <td>NaN</td>\n",
       "      <td>NaN</td>\n",
       "      <td>NaN</td>\n",
       "      <td>NaN</td>\n",
       "      <td>NaN</td>\n",
       "      <td>NaN</td>\n",
       "    </tr>\n",
       "    <tr>\n",
       "      <th>2</th>\n",
       "      <td>68585839</td>\n",
       "      <td>NaN</td>\n",
       "      <td>17475</td>\n",
       "      <td>17475</td>\n",
       "      <td>17475</td>\n",
       "      <td>36 months</td>\n",
       "      <td>13.99%</td>\n",
       "      <td>597.17</td>\n",
       "      <td>C</td>\n",
       "      <td>C4</td>\n",
       "      <td>Software Testing Analyst</td>\n",
       "      <td>2 years</td>\n",
       "      <td>RENT</td>\n",
       "      <td>39750.0</td>\n",
       "      <td>Not Verified</td>\n",
       "      <td>Dec-2015</td>\n",
       "      <td>Charged Off</td>\n",
       "      <td>n</td>\n",
       "      <td>https://lendingclub.com/browse/loanDetail.acti...</td>\n",
       "      <td>NaN</td>\n",
       "      <td>debt_consolidation</td>\n",
       "      <td>Debt consolidation</td>\n",
       "      <td>604xx</td>\n",
       "      <td>IL</td>\n",
       "      <td>23.58</td>\n",
       "      <td>0</td>\n",
       "      <td>May-2002</td>\n",
       "      <td>695</td>\n",
       "      <td>699</td>\n",
       "      <td>0</td>\n",
       "      <td>27.0</td>\n",
       "      <td>NaN</td>\n",
       "      <td>7</td>\n",
       "      <td>0</td>\n",
       "      <td>10987</td>\n",
       "      <td>52.3%</td>\n",
       "      <td>13</td>\n",
       "      <td>w</td>\n",
       "      <td>0.0</td>\n",
       "      <td>0.0</td>\n",
       "      <td>...</td>\n",
       "      <td>0</td>\n",
       "      <td>50240</td>\n",
       "      <td>32365</td>\n",
       "      <td>21000</td>\n",
       "      <td>29240</td>\n",
       "      <td>NaN</td>\n",
       "      <td>NaN</td>\n",
       "      <td>NaN</td>\n",
       "      <td>NaN</td>\n",
       "      <td>NaN</td>\n",
       "      <td>NaN</td>\n",
       "      <td>NaN</td>\n",
       "      <td>NaN</td>\n",
       "      <td>NaN</td>\n",
       "      <td>NaN</td>\n",
       "      <td>NaN</td>\n",
       "      <td>NaN</td>\n",
       "      <td>NaN</td>\n",
       "      <td>N</td>\n",
       "      <td>NaN</td>\n",
       "      <td>NaN</td>\n",
       "      <td>NaN</td>\n",
       "      <td>NaN</td>\n",
       "      <td>NaN</td>\n",
       "      <td>NaN</td>\n",
       "      <td>NaN</td>\n",
       "      <td>NaN</td>\n",
       "      <td>NaN</td>\n",
       "      <td>NaN</td>\n",
       "      <td>NaN</td>\n",
       "      <td>NaN</td>\n",
       "      <td>NaN</td>\n",
       "      <td>NaN</td>\n",
       "      <td>Y</td>\n",
       "      <td>Feb-2019</td>\n",
       "      <td>COMPLETE</td>\n",
       "      <td>Jan-2018</td>\n",
       "      <td>4382.0</td>\n",
       "      <td>44.99</td>\n",
       "      <td>12.0</td>\n",
       "    </tr>\n",
       "    <tr>\n",
       "      <th>3</th>\n",
       "      <td>68577849</td>\n",
       "      <td>NaN</td>\n",
       "      <td>18000</td>\n",
       "      <td>18000</td>\n",
       "      <td>18000</td>\n",
       "      <td>60 months</td>\n",
       "      <td>11.99%</td>\n",
       "      <td>400.31</td>\n",
       "      <td>C</td>\n",
       "      <td>C1</td>\n",
       "      <td>GS-11</td>\n",
       "      <td>10+ years</td>\n",
       "      <td>MORTGAGE</td>\n",
       "      <td>112000.0</td>\n",
       "      <td>Not Verified</td>\n",
       "      <td>Dec-2015</td>\n",
       "      <td>Fully Paid</td>\n",
       "      <td>n</td>\n",
       "      <td>https://lendingclub.com/browse/loanDetail.acti...</td>\n",
       "      <td>NaN</td>\n",
       "      <td>debt_consolidation</td>\n",
       "      <td>Debt consolidation</td>\n",
       "      <td>856xx</td>\n",
       "      <td>AZ</td>\n",
       "      <td>8.68</td>\n",
       "      <td>0</td>\n",
       "      <td>Nov-1993</td>\n",
       "      <td>800</td>\n",
       "      <td>804</td>\n",
       "      <td>0</td>\n",
       "      <td>NaN</td>\n",
       "      <td>NaN</td>\n",
       "      <td>17</td>\n",
       "      <td>0</td>\n",
       "      <td>10711</td>\n",
       "      <td>15.5%</td>\n",
       "      <td>27</td>\n",
       "      <td>w</td>\n",
       "      <td>0.0</td>\n",
       "      <td>0.0</td>\n",
       "      <td>...</td>\n",
       "      <td>0</td>\n",
       "      <td>309710</td>\n",
       "      <td>36127</td>\n",
       "      <td>69800</td>\n",
       "      <td>26210</td>\n",
       "      <td>NaN</td>\n",
       "      <td>NaN</td>\n",
       "      <td>NaN</td>\n",
       "      <td>NaN</td>\n",
       "      <td>NaN</td>\n",
       "      <td>NaN</td>\n",
       "      <td>NaN</td>\n",
       "      <td>NaN</td>\n",
       "      <td>NaN</td>\n",
       "      <td>NaN</td>\n",
       "      <td>NaN</td>\n",
       "      <td>NaN</td>\n",
       "      <td>NaN</td>\n",
       "      <td>N</td>\n",
       "      <td>NaN</td>\n",
       "      <td>NaN</td>\n",
       "      <td>NaN</td>\n",
       "      <td>NaN</td>\n",
       "      <td>NaN</td>\n",
       "      <td>NaN</td>\n",
       "      <td>NaN</td>\n",
       "      <td>NaN</td>\n",
       "      <td>NaN</td>\n",
       "      <td>NaN</td>\n",
       "      <td>NaN</td>\n",
       "      <td>NaN</td>\n",
       "      <td>NaN</td>\n",
       "      <td>NaN</td>\n",
       "      <td>N</td>\n",
       "      <td>NaN</td>\n",
       "      <td>NaN</td>\n",
       "      <td>NaN</td>\n",
       "      <td>NaN</td>\n",
       "      <td>NaN</td>\n",
       "      <td>NaN</td>\n",
       "    </tr>\n",
       "    <tr>\n",
       "      <th>4</th>\n",
       "      <td>68587652</td>\n",
       "      <td>NaN</td>\n",
       "      <td>25000</td>\n",
       "      <td>25000</td>\n",
       "      <td>25000</td>\n",
       "      <td>36 months</td>\n",
       "      <td>5.32%</td>\n",
       "      <td>752.87</td>\n",
       "      <td>A</td>\n",
       "      <td>A1</td>\n",
       "      <td>Director</td>\n",
       "      <td>1 year</td>\n",
       "      <td>MORTGAGE</td>\n",
       "      <td>150000.0</td>\n",
       "      <td>Not Verified</td>\n",
       "      <td>Dec-2015</td>\n",
       "      <td>Fully Paid</td>\n",
       "      <td>n</td>\n",
       "      <td>https://lendingclub.com/browse/loanDetail.acti...</td>\n",
       "      <td>NaN</td>\n",
       "      <td>credit_card</td>\n",
       "      <td>Credit card refinancing</td>\n",
       "      <td>054xx</td>\n",
       "      <td>VT</td>\n",
       "      <td>9.54</td>\n",
       "      <td>0</td>\n",
       "      <td>Feb-1996</td>\n",
       "      <td>795</td>\n",
       "      <td>799</td>\n",
       "      <td>0</td>\n",
       "      <td>NaN</td>\n",
       "      <td>NaN</td>\n",
       "      <td>7</td>\n",
       "      <td>0</td>\n",
       "      <td>19339</td>\n",
       "      <td>42.5%</td>\n",
       "      <td>18</td>\n",
       "      <td>w</td>\n",
       "      <td>0.0</td>\n",
       "      <td>0.0</td>\n",
       "      <td>...</td>\n",
       "      <td>0</td>\n",
       "      <td>512381</td>\n",
       "      <td>44786</td>\n",
       "      <td>44000</td>\n",
       "      <td>51081</td>\n",
       "      <td>NaN</td>\n",
       "      <td>NaN</td>\n",
       "      <td>NaN</td>\n",
       "      <td>NaN</td>\n",
       "      <td>NaN</td>\n",
       "      <td>NaN</td>\n",
       "      <td>NaN</td>\n",
       "      <td>NaN</td>\n",
       "      <td>NaN</td>\n",
       "      <td>NaN</td>\n",
       "      <td>NaN</td>\n",
       "      <td>NaN</td>\n",
       "      <td>NaN</td>\n",
       "      <td>N</td>\n",
       "      <td>NaN</td>\n",
       "      <td>NaN</td>\n",
       "      <td>NaN</td>\n",
       "      <td>NaN</td>\n",
       "      <td>NaN</td>\n",
       "      <td>NaN</td>\n",
       "      <td>NaN</td>\n",
       "      <td>NaN</td>\n",
       "      <td>NaN</td>\n",
       "      <td>NaN</td>\n",
       "      <td>NaN</td>\n",
       "      <td>NaN</td>\n",
       "      <td>NaN</td>\n",
       "      <td>NaN</td>\n",
       "      <td>N</td>\n",
       "      <td>NaN</td>\n",
       "      <td>NaN</td>\n",
       "      <td>NaN</td>\n",
       "      <td>NaN</td>\n",
       "      <td>NaN</td>\n",
       "      <td>NaN</td>\n",
       "    </tr>\n",
       "  </tbody>\n",
       "</table>\n",
       "<p>5 rows × 150 columns</p>\n",
       "</div>"
      ],
      "text/plain": [
       "         id  member_id  ...  settlement_percentage  settlement_term\n",
       "0  68446771        NaN  ...                    NaN              NaN\n",
       "1  68367009        NaN  ...                    NaN              NaN\n",
       "2  68585839        NaN  ...                  44.99             12.0\n",
       "3  68577849        NaN  ...                    NaN              NaN\n",
       "4  68587652        NaN  ...                    NaN              NaN\n",
       "\n",
       "[5 rows x 150 columns]"
      ]
     },
     "execution_count": 4,
     "metadata": {
      "tags": []
     },
     "output_type": "execute_result"
    }
   ],
   "source": [
    "df.head()"
   ]
  },
  {
   "cell_type": "code",
   "execution_count": 5,
   "metadata": {
    "colab": {
     "base_uri": "https://localhost:8080/"
    },
    "id": "EcfuAkLPLxP3",
    "outputId": "da2f7ca7-5bf3-479d-d673-b558c42fe736"
   },
   "outputs": [
    {
     "name": "stdout",
     "output_type": "stream",
     "text": [
      "Number of accounts:  99998\n",
      "Number of columns:  150\n"
     ]
    }
   ],
   "source": [
    "print('Number of accounts: ', len(df))\n",
    "print('Number of columns: ', len(df.columns))"
   ]
  },
  {
   "cell_type": "code",
   "execution_count": 6,
   "metadata": {
    "id": "aKmKAURJL3BK"
   },
   "outputs": [],
   "source": [
    "column_names = df.columns.to_list()"
   ]
  },
  {
   "cell_type": "markdown",
   "metadata": {
    "id": "fGRsY4FyL8zC"
   },
   "source": [
    "### 2.1 Target label: loan_status\n",
    "\n",
    "Let's have a look at target variable."
   ]
  },
  {
   "cell_type": "code",
   "execution_count": 120,
   "metadata": {
    "colab": {
     "base_uri": "https://localhost:8080/",
     "height": 225
    },
    "id": "3ZuSYv5oL5O3",
    "outputId": "0654575b-5891-4233-f234-3b1d9f266f4d"
   },
   "outputs": [
    {
     "data": {
      "text/html": [
       "<div>\n",
       "<style scoped>\n",
       "    .dataframe tbody tr th:only-of-type {\n",
       "        vertical-align: middle;\n",
       "    }\n",
       "\n",
       "    .dataframe tbody tr th {\n",
       "        vertical-align: top;\n",
       "    }\n",
       "\n",
       "    .dataframe thead th {\n",
       "        text-align: right;\n",
       "    }\n",
       "</style>\n",
       "<table border=\"1\" class=\"dataframe\">\n",
       "  <thead>\n",
       "    <tr style=\"text-align: right;\">\n",
       "      <th></th>\n",
       "      <th>loan_status</th>\n",
       "      <th>frequency</th>\n",
       "    </tr>\n",
       "  </thead>\n",
       "  <tbody>\n",
       "    <tr>\n",
       "      <th>0</th>\n",
       "      <td>Fully Paid</td>\n",
       "      <td>77883</td>\n",
       "    </tr>\n",
       "    <tr>\n",
       "      <th>1</th>\n",
       "      <td>Charged Off</td>\n",
       "      <td>18956</td>\n",
       "    </tr>\n",
       "    <tr>\n",
       "      <th>2</th>\n",
       "      <td>Current</td>\n",
       "      <td>2975</td>\n",
       "    </tr>\n",
       "    <tr>\n",
       "      <th>3</th>\n",
       "      <td>In Grace Period</td>\n",
       "      <td>95</td>\n",
       "    </tr>\n",
       "    <tr>\n",
       "      <th>4</th>\n",
       "      <td>Late (31-120 days)</td>\n",
       "      <td>62</td>\n",
       "    </tr>\n",
       "    <tr>\n",
       "      <th>5</th>\n",
       "      <td>Late (16-30 days)</td>\n",
       "      <td>27</td>\n",
       "    </tr>\n",
       "  </tbody>\n",
       "</table>\n",
       "</div>"
      ],
      "text/plain": [
       "          loan_status  frequency\n",
       "0          Fully Paid      77883\n",
       "1         Charged Off      18956\n",
       "2             Current       2975\n",
       "3     In Grace Period         95\n",
       "4  Late (31-120 days)         62\n",
       "5   Late (16-30 days)         27"
      ]
     },
     "execution_count": 120,
     "metadata": {
      "tags": []
     },
     "output_type": "execute_result"
    }
   ],
   "source": [
    "loan_status_distribution = df['loan_status'].value_counts().to_frame()\n",
    "loan_status_distribution = loan_status_distribution.reset_index()\n",
    "loan_status_distribution.columns = ['loan_status','frequency']\n",
    "loan_status_distribution"
   ]
  },
  {
   "cell_type": "markdown",
   "metadata": {
    "id": "aHN9LIMaMDI5"
   },
   "source": [
    "As we can see from above, loan status has 6 categories: 'Fully Paid', 'Charged Off', 'Current', 'In Grace Period', 'Late (31-120 days)', 'Late (16-30 days)'. \n",
    "\n",
    "We only utilize 'Fully paid' and 'charged off' categories as remaining 4 categories are still ongoing loans and we can't use them to build the predictive model as the loans are not closed yet. \n",
    "\n",
    "'Fully paid' = 0, 'Charged off' = 1."
   ]
  },
  {
   "cell_type": "code",
   "execution_count": 4,
   "metadata": {
    "id": "xOFDVXnBL_Tc"
   },
   "outputs": [],
   "source": [
    "df = df[(df['loan_status']=='Fully Paid') | (df['loan_status']=='Charged Off')]"
   ]
  },
  {
   "cell_type": "code",
   "execution_count": 9,
   "metadata": {
    "colab": {
     "base_uri": "https://localhost:8080/"
    },
    "id": "iMMR3NFsMBL1",
    "outputId": "acd3de7c-e276-4476-aeb5-02fcb8045f67"
   },
   "outputs": [
    {
     "data": {
      "text/plain": [
       "96839"
      ]
     },
     "execution_count": 9,
     "metadata": {
      "tags": []
     },
     "output_type": "execute_result"
    }
   ],
   "source": [
    "len(df)"
   ]
  },
  {
   "cell_type": "markdown",
   "metadata": {
    "id": "ICpUqDLzMKwc"
   },
   "source": [
    "We are left with 96839 accounts of 99998 accounts which are either fully paid or charged off accounts."
   ]
  },
  {
   "cell_type": "code",
   "execution_count": 8,
   "metadata": {
    "colab": {
     "base_uri": "https://localhost:8080/",
     "height": 417
    },
    "id": "bedKfBFLMHd2",
    "outputId": "c18fd521-a567-489a-f469-9fe30362a05a"
   },
   "outputs": [
    {
     "data": {
      "image/png": "[encoded data removed]",
      "text/plain": [
       "<Figure size 432x432 with 1 Axes>"
      ]
     },
     "metadata": {
      "needs_background": "light"
     },
     "output_type": "display_data"
    }
   ],
   "source": [
    "# plot loan status distribution\n",
    "plt.figure(figsize=(6,6))\n",
    "sns.countplot(x = df['loan_status'])\n",
    "plt.xlabel('Loan status')\n",
    "plt.ylabel('Count')\n",
    "plt.title('Number of loans originated for fully paid vs charged off loans')\n",
    "plt.show()\n",
    "\n",
    "\n",
    "#fig = px.histogram(df, x=\"loan_status\",width=400, height=400)\n",
    "#fig.update_layout(title = 'Loan status distribution',title_x=0.5)\n",
    "#fig.show()"
   ]
  },
  {
   "cell_type": "code",
   "execution_count": 11,
   "metadata": {
    "colab": {
     "base_uri": "https://localhost:8080/",
     "height": 106
    },
    "id": "PMQryW3OMOws",
    "outputId": "e1f55477-8300-4326-c1fe-99d19bd5f6d1"
   },
   "outputs": [
    {
     "data": {
      "text/html": [
       "<div>\n",
       "<style scoped>\n",
       "    .dataframe tbody tr th:only-of-type {\n",
       "        vertical-align: middle;\n",
       "    }\n",
       "\n",
       "    .dataframe tbody tr th {\n",
       "        vertical-align: top;\n",
       "    }\n",
       "\n",
       "    .dataframe thead th {\n",
       "        text-align: right;\n",
       "    }\n",
       "</style>\n",
       "<table border=\"1\" class=\"dataframe\">\n",
       "  <thead>\n",
       "    <tr style=\"text-align: right;\">\n",
       "      <th></th>\n",
       "      <th>loan_status</th>\n",
       "      <th>frequency</th>\n",
       "    </tr>\n",
       "  </thead>\n",
       "  <tbody>\n",
       "    <tr>\n",
       "      <th>0</th>\n",
       "      <td>Fully Paid</td>\n",
       "      <td>77883</td>\n",
       "    </tr>\n",
       "    <tr>\n",
       "      <th>1</th>\n",
       "      <td>Charged Off</td>\n",
       "      <td>18956</td>\n",
       "    </tr>\n",
       "  </tbody>\n",
       "</table>\n",
       "</div>"
      ],
      "text/plain": [
       "   loan_status  frequency\n",
       "0   Fully Paid      77883\n",
       "1  Charged Off      18956"
      ]
     },
     "execution_count": 11,
     "metadata": {
      "tags": []
     },
     "output_type": "execute_result"
    }
   ],
   "source": [
    "loan_status_distribution = df['loan_status'].value_counts().to_frame()\n",
    "loan_status_distribution = loan_status_distribution.reset_index()\n",
    "loan_status_distribution.columns = ['loan_status','frequency']\n",
    "loan_status_distribution"
   ]
  },
  {
   "cell_type": "code",
   "execution_count": 12,
   "metadata": {
    "colab": {
     "base_uri": "https://localhost:8080/"
    },
    "id": "uoEC6HCSMTDF",
    "outputId": "8b8f39b3-14d5-4f4f-a6b4-91a20489aacc"
   },
   "outputs": [
    {
     "data": {
      "text/plain": [
       "Fully Paid     0.804252\n",
       "Charged Off    0.195748\n",
       "Name: loan_status, dtype: float64"
      ]
     },
     "execution_count": 12,
     "metadata": {
      "tags": []
     },
     "output_type": "execute_result"
    }
   ],
   "source": [
    "df['loan_status'].value_counts(normalize=True)\n"
   ]
  },
  {
   "cell_type": "markdown",
   "metadata": {
    "id": "d_Tyqps5MYVn"
   },
   "source": [
    "There are 77883 fully paid accounts and 18956 charged off accounts. 80.4% of the loans are fully paid and 19.6% loans are charged off. So the data is skewed. So if we use accuracy as performance metrics, if the model predicts fully paid everytime, the accuracy will be 80%. Which is why I choose to use F1 score as performance metrics and monitor both precision and recall along with accuracy. Using confusion matrix, I will monitor the model performance on both fully paid and charged off categories. Also I will used scale_pos_weight which will be a hyperparameter to handle the data imbalance."
   ]
  },
  {
   "cell_type": "code",
   "execution_count": 11,
   "metadata": {
    "colab": {
     "base_uri": "https://localhost:8080/",
     "height": 542
    },
    "id": "qgtRNqmuPXnj",
    "outputId": "8b7e9530-ed67-4752-a4e4-22cc6d8ba06f"
   },
   "outputs": [
    {
     "data": {
      "image/png": "[encoded data removed]",
      "text/plain": [
       "<Figure size 432x432 with 1 Axes>"
      ]
     },
     "metadata": {
      "needs_background": "light"
     },
     "output_type": "display_data"
    }
   ],
   "source": [
    "# Distribution of Loan Amounts by Loan Status\n",
    "\n",
    "plt.figure(figsize=(6,6))\n",
    "sns.boxplot(x=\"loan_status\", y=\"loan_amnt\", data=df)\n",
    "plt.xlabel('Loan status')\n",
    "plt.ylabel('loan amount')\n",
    "plt.title('Loan status vs loan amounts')\n",
    "plt.show()\n",
    "\n",
    "#fig = px.box(df,x='loan_status',y='loan_amnt')\n",
    "#fig.show()"
   ]
  },
  {
   "cell_type": "markdown",
   "metadata": {
    "id": "S46f4c89QwEn"
   },
   "source": [
    "The median loan amount of charged off accounts(15k) is a bit higher than median loan amount of fully paid accounts(12.5k)."
   ]
  },
  {
   "cell_type": "code",
   "execution_count": 14,
   "metadata": {
    "colab": {
     "base_uri": "https://localhost:8080/",
     "height": 401
    },
    "id": "W1sIgzG6Vdae",
    "outputId": "0e2662ae-7f51-4b75-9d9a-2afc6eeb09b8"
   },
   "outputs": [
    {
     "data": {
      "image/png": "[encoded data removed]",
      "text/plain": [
       "<Figure size 360x360 with 1 Axes>"
      ]
     },
     "metadata": {
      "needs_background": "light"
     },
     "output_type": "display_data"
    }
   ],
   "source": [
    "# plot of distribution of loan amounts\n",
    "#plt.figure(figsize=(6,6))\n",
    "sns.displot(df['loan_amnt'], kde=True, bins=30)\n",
    "plt.xlabel('Loan Amount (USD)')\n",
    "plt.ylabel('Count')\n",
    "plt.title('Distribution of Loan Amounts')\n",
    "plt.show()"
   ]
  },
  {
   "cell_type": "markdown",
   "metadata": {
    "id": "V6DjBXooSnux"
   },
   "source": [
    "In our data, loans of 10k$ are distributed most. "
   ]
  },
  {
   "cell_type": "code",
   "execution_count": 15,
   "metadata": {
    "colab": {
     "base_uri": "https://localhost:8080/",
     "height": 463
    },
    "id": "2eQgxjZaa6mz",
    "outputId": "f3be0af3-1968-4e14-fc18-678b6a441d16"
   },
   "outputs": [
    {
     "data": {
      "text/plain": [
       "Text(0.5, 1.0, 'Fraction Charge-Offs vs Employment Length')"
      ]
     },
     "execution_count": 15,
     "metadata": {
      "tags": []
     },
     "output_type": "execute_result"
    },
    {
     "data": {
      "image/png": "[encoded data removed]",
      "text/plain": [
       "<Figure size 864x432 with 1 Axes>"
      ]
     },
     "metadata": {
      "needs_background": "light",
      "tags": []
     },
     "output_type": "display_data"
    }
   ],
   "source": [
    "# plot of fraction charge offs vs employement length\n",
    "yrs_paid = df[df['loan_status'] == 'Fully Paid'].groupby('emp_length').count()['loan_status']\n",
    "yrs_not_paid = df[df['loan_status'] == 'Charged Off'].groupby('emp_length').count()['loan_status']\n",
    "yrs_pct_paid = yrs_not_paid/yrs_paid\n",
    "\n",
    "plt.figure(figsize=(12, 6))\n",
    "yrs_pct_paid.plot(kind='bar')\n",
    "plt.xlabel('Length of Employment (Years)')\n",
    "plt.ylabel('Fraction Charge-Offs')\n",
    "plt.title('Fraction Charge-Offs vs Employment Length')"
   ]
  },
  {
   "cell_type": "markdown",
   "metadata": {
    "id": "QVqu2HciStUY"
   },
   "source": [
    "People with over 10 plus years of employment have lowest charge off ratio. Also, people with less than 1 year of employment have highest charge off ratio. "
   ]
  },
  {
   "cell_type": "code",
   "execution_count": 15,
   "metadata": {
    "colab": {
     "base_uri": "https://localhost:8080/",
     "height": 406
    },
    "id": "cU_SWqPzixaz",
    "outputId": "75906289-a44b-4d1e-9046-64d27d6d7421"
   },
   "outputs": [
    {
     "data": {
      "text/plain": [
       "Text(0.5, 1.0, 'Employment Length vs number of loans')"
      ]
     },
     "execution_count": 15,
     "metadata": {},
     "output_type": "execute_result"
    },
    {
     "data": {
      "image/png": "[encoded data removed]",
      "text/plain": [
       "<Figure size 720x432 with 1 Axes>"
      ]
     },
     "metadata": {
      "needs_background": "light"
     },
     "output_type": "display_data"
    }
   ],
   "source": [
    "# plot of employement length vs loan status\n",
    "order = ['< 1 year', '1 year', '2 years', '3 years', '4 years', '5 years', \n",
    "          '6 years', '7 years', '8 years', '9 years', '10+ years',]\n",
    "plt.figure(figsize=(10, 6))\n",
    "sns.countplot(x='emp_length', data=df, hue='loan_status', order=order)\n",
    "plt.title('Employment Length vs number of loans')"
   ]
  },
  {
   "cell_type": "code",
   "execution_count": 16,
   "metadata": {
    "colab": {
     "base_uri": "https://localhost:8080/",
     "height": 327
    },
    "id": "KdPSs-kihqvu",
    "outputId": "d3b907c2-12ac-4e4f-fbdb-eda62b8b672a"
   },
   "outputs": [
    {
     "data": {
      "text/plain": [
       "<AxesSubplot:xlabel='sub_grade', ylabel='count'>"
      ]
     },
     "execution_count": 16,
     "metadata": {},
     "output_type": "execute_result"
    },
    {
     "data": {
      "image/png": "[encoded data removed]",
      "text/plain": [
       "<Figure size 1080x720 with 2 Axes>"
      ]
     },
     "metadata": {
      "needs_background": "light"
     },
     "output_type": "display_data"
    }
   ],
   "source": [
    "# grades vs loan status\n",
    "plt.figure(figsize=(15, 10))\n",
    "plt.subplot(2, 2, 1)\n",
    "grade = sorted(df.grade.unique().tolist())\n",
    "sns.countplot(x='grade', data=df, hue='loan_status', order=grade)\n",
    "plt.title('number of loans originated per grade')\n",
    "\n",
    "plt.subplot(2, 2, 2)\n",
    "sub_grade = sorted(df.sub_grade.unique().tolist())\n",
    "sns.countplot(x='sub_grade', data=df, hue='loan_status', order=sub_grade)"
   ]
  },
  {
   "cell_type": "code",
   "execution_count": 129,
   "metadata": {
    "colab": {
     "base_uri": "https://localhost:8080/",
     "height": 872
    },
    "id": "z7QPnrH3jNcw",
    "outputId": "7ad96c8b-dc1b-4ca7-8cd7-1b5ebf0699e8"
   },
   "outputs": [
    {
     "data": {
      "text/plain": [
       "<matplotlib.axes._subplots.AxesSubplot at 0x7f91b26b3908>"
      ]
     },
     "execution_count": 129,
     "metadata": {
      "tags": []
     },
     "output_type": "execute_result"
    },
    {
     "data": {
      "image/png": "[encoded data removed]",
      "text/plain": [
       "<Figure size 864x2160 with 5 Axes>"
      ]
     },
     "metadata": {
      "needs_background": "light",
      "tags": []
     },
     "output_type": "display_data"
    }
   ],
   "source": [
    "# plot of loan status vs features like application type.\n",
    "plt.figure(figsize=(12, 30))\n",
    "\n",
    "plt.subplot(6, 2, 1)\n",
    "sns.countplot(x='pub_rec', data=df, hue='loan_status')\n",
    "\n",
    "plt.subplot(6, 2, 2)\n",
    "sns.countplot(x='initial_list_status', data=df, hue='loan_status')\n",
    "\n",
    "plt.subplot(6, 2, 3)\n",
    "sns.countplot(x='application_type', data=df, hue='loan_status')\n",
    "\n",
    "plt.subplot(6, 2, 4)\n",
    "sns.countplot(x='mort_acc', data=df, hue='loan_status')\n",
    "\n",
    "plt.subplot(6, 2, 5)\n",
    "sns.countplot(x='pub_rec_bankruptcies', data=df, hue='loan_status')"
   ]
  },
  {
   "cell_type": "markdown",
   "metadata": {
    "id": "JpxoVwMUMbKf"
   },
   "source": [
    "### 2.2 Missing/Null values\n",
    "\n",
    "Let's check missing or null values"
   ]
  },
  {
   "cell_type": "code",
   "execution_count": 16,
   "metadata": {
    "colab": {
     "base_uri": "https://localhost:8080/",
     "height": 195
    },
    "id": "tuhhHhY9MVQf",
    "outputId": "ea774f2f-95a2-4444-953c-a707012b6709"
   },
   "outputs": [
    {
     "data": {
      "text/html": [
       "<div>\n",
       "<style scoped>\n",
       "    .dataframe tbody tr th:only-of-type {\n",
       "        vertical-align: middle;\n",
       "    }\n",
       "\n",
       "    .dataframe tbody tr th {\n",
       "        vertical-align: top;\n",
       "    }\n",
       "\n",
       "    .dataframe thead th {\n",
       "        text-align: right;\n",
       "    }\n",
       "</style>\n",
       "<table border=\"1\" class=\"dataframe\">\n",
       "  <thead>\n",
       "    <tr style=\"text-align: right;\">\n",
       "      <th></th>\n",
       "      <th>feature</th>\n",
       "      <th>number of missing values</th>\n",
       "    </tr>\n",
       "  </thead>\n",
       "  <tbody>\n",
       "    <tr>\n",
       "      <th>0</th>\n",
       "      <td>next_pymnt_d</td>\n",
       "      <td>96839</td>\n",
       "    </tr>\n",
       "    <tr>\n",
       "      <th>1</th>\n",
       "      <td>sec_app_inq_last_6mths</td>\n",
       "      <td>96839</td>\n",
       "    </tr>\n",
       "    <tr>\n",
       "      <th>2</th>\n",
       "      <td>sec_app_collections_12_mths_ex_med</td>\n",
       "      <td>96839</td>\n",
       "    </tr>\n",
       "    <tr>\n",
       "      <th>3</th>\n",
       "      <td>sec_app_chargeoff_within_12_mths</td>\n",
       "      <td>96839</td>\n",
       "    </tr>\n",
       "    <tr>\n",
       "      <th>4</th>\n",
       "      <td>sec_app_num_rev_accts</td>\n",
       "      <td>96839</td>\n",
       "    </tr>\n",
       "  </tbody>\n",
       "</table>\n",
       "</div>"
      ],
      "text/plain": [
       "                              feature  number of missing values\n",
       "0                        next_pymnt_d                     96839\n",
       "1              sec_app_inq_last_6mths                     96839\n",
       "2  sec_app_collections_12_mths_ex_med                     96839\n",
       "3    sec_app_chargeoff_within_12_mths                     96839\n",
       "4               sec_app_num_rev_accts                     96839"
      ]
     },
     "execution_count": 16,
     "metadata": {
      "tags": []
     },
     "output_type": "execute_result"
    }
   ],
   "source": [
    "missing_values_count = df.isna().sum().sort_values(ascending=False).to_frame()\n",
    "missing_values_count = missing_values_count.reset_index()\n",
    "missing_values_count.columns = ['feature','number of missing values']\n",
    "missing_values_count.head()"
   ]
  },
  {
   "cell_type": "code",
   "execution_count": null,
   "metadata": {
    "id": "2XvVONAGMdOw"
   },
   "outputs": [],
   "source": [
    "missing_values_count['Percentage of missing values(%)'] = (missing_values_count['number of missing values']/len(df))*100"
   ]
  },
  {
   "cell_type": "code",
   "execution_count": 18,
   "metadata": {
    "colab": {
     "base_uri": "https://localhost:8080/",
     "height": 195
    },
    "id": "1Mxfx8nBMfi1",
    "outputId": "320019a0-42de-4701-ed80-42d5de9e190d"
   },
   "outputs": [
    {
     "data": {
      "text/html": [
       "<div>\n",
       "<style scoped>\n",
       "    .dataframe tbody tr th:only-of-type {\n",
       "        vertical-align: middle;\n",
       "    }\n",
       "\n",
       "    .dataframe tbody tr th {\n",
       "        vertical-align: top;\n",
       "    }\n",
       "\n",
       "    .dataframe thead th {\n",
       "        text-align: right;\n",
       "    }\n",
       "</style>\n",
       "<table border=\"1\" class=\"dataframe\">\n",
       "  <thead>\n",
       "    <tr style=\"text-align: right;\">\n",
       "      <th></th>\n",
       "      <th>feature</th>\n",
       "      <th>number of missing values</th>\n",
       "      <th>Percentage of missing values(%)</th>\n",
       "    </tr>\n",
       "  </thead>\n",
       "  <tbody>\n",
       "    <tr>\n",
       "      <th>0</th>\n",
       "      <td>next_pymnt_d</td>\n",
       "      <td>96839</td>\n",
       "      <td>100.0</td>\n",
       "    </tr>\n",
       "    <tr>\n",
       "      <th>1</th>\n",
       "      <td>sec_app_inq_last_6mths</td>\n",
       "      <td>96839</td>\n",
       "      <td>100.0</td>\n",
       "    </tr>\n",
       "    <tr>\n",
       "      <th>2</th>\n",
       "      <td>sec_app_collections_12_mths_ex_med</td>\n",
       "      <td>96839</td>\n",
       "      <td>100.0</td>\n",
       "    </tr>\n",
       "    <tr>\n",
       "      <th>3</th>\n",
       "      <td>sec_app_chargeoff_within_12_mths</td>\n",
       "      <td>96839</td>\n",
       "      <td>100.0</td>\n",
       "    </tr>\n",
       "    <tr>\n",
       "      <th>4</th>\n",
       "      <td>sec_app_num_rev_accts</td>\n",
       "      <td>96839</td>\n",
       "      <td>100.0</td>\n",
       "    </tr>\n",
       "  </tbody>\n",
       "</table>\n",
       "</div>"
      ],
      "text/plain": [
       "                              feature  ...  Percentage of missing values(%)\n",
       "0                        next_pymnt_d  ...                            100.0\n",
       "1              sec_app_inq_last_6mths  ...                            100.0\n",
       "2  sec_app_collections_12_mths_ex_med  ...                            100.0\n",
       "3    sec_app_chargeoff_within_12_mths  ...                            100.0\n",
       "4               sec_app_num_rev_accts  ...                            100.0\n",
       "\n",
       "[5 rows x 3 columns]"
      ]
     },
     "execution_count": 18,
     "metadata": {
      "tags": []
     },
     "output_type": "execute_result"
    }
   ],
   "source": [
    "missing_values_count[missing_values_count['Percentage of missing values(%)'] > 90].head()"
   ]
  },
  {
   "cell_type": "markdown",
   "metadata": {
    "id": "9p4TPMAaMnZO"
   },
   "source": [
    "We can see 38 features have over 90% of their values missing. \n",
    "\n",
    "14 features have 100 % missing values. Member id, next payment day are empty in all rows and 12 secondary applicant features are missing totally. So I decided to remove these 14 features. \n",
    "\n",
    "Also hardship based features are missing over 99% of the times. As of now I will remove all hardship related features except hardship_status feature. Hardship_status feature may have correlation with account charge off. If time permits, I will work on other hardship related features. \n",
    "\n",
    "If there are any previous settlement issues, then the risk involved maybe high. So I will assume 'settlement_status' as 1 if it is not null else 0.\n",
    "\n"
   ]
  },
  {
   "cell_type": "code",
   "execution_count": 19,
   "metadata": {
    "id": "kEdo3s4OMiNO"
   },
   "outputs": [],
   "source": [
    "high_missing_value_features = missing_values_count[missing_values_count['Percentage of missing values(%)'] > 90]['feature'].tolist()"
   ]
  },
  {
   "cell_type": "code",
   "execution_count": 20,
   "metadata": {
    "id": "TYkXrgVIMrV4"
   },
   "outputs": [],
   "source": [
    "high_missing_value_features.remove('settlement_status')\n",
    "high_missing_value_features.remove('hardship_status')"
   ]
  },
  {
   "cell_type": "code",
   "execution_count": 21,
   "metadata": {
    "id": "EB0szUwdMtGh"
   },
   "outputs": [],
   "source": [
    "df.drop(high_missing_value_features, axis=1, inplace=True)"
   ]
  },
  {
   "cell_type": "code",
   "execution_count": 22,
   "metadata": {
    "colab": {
     "base_uri": "https://localhost:8080/"
    },
    "id": "qgPMLoZfMuYX",
    "outputId": "4f7b0e7d-5c31-4a01-cd67-33dd1f1bdcab"
   },
   "outputs": [
    {
     "name": "stdout",
     "output_type": "stream",
     "text": [
      "Remaining columns count:  113\n"
     ]
    }
   ],
   "source": [
    "print('Remaining columns count: ', len(df.columns))"
   ]
  },
  {
   "cell_type": "code",
   "execution_count": 23,
   "metadata": {
    "id": "_bEqwVm8Mwfz"
   },
   "outputs": [],
   "source": [
    "# if settlement/hardship status is not null, assign 1 else 0\n",
    "df['settlement_status'] = np.where(df['settlement_status'].isna(),0,1)\n",
    "df['hardship_status'] = np.where(df['hardship_status'].isna(),0,1)"
   ]
  },
  {
   "cell_type": "markdown",
   "metadata": {
    "id": "0CTNKONgM1ZV"
   },
   "source": [
    "### 2.3  Filter features based on data types."
   ]
  },
  {
   "cell_type": "code",
   "execution_count": 24,
   "metadata": {
    "colab": {
     "base_uri": "https://localhost:8080/"
    },
    "id": "ounpoGkiMy9h",
    "outputId": "95668c19-35ea-40f1-bba5-1eaf309f50cf"
   },
   "outputs": [
    {
     "data": {
      "text/plain": [
       "int64      48\n",
       "float64    41\n",
       "object     24\n",
       "dtype: int64"
      ]
     },
     "execution_count": 24,
     "metadata": {
      "tags": []
     },
     "output_type": "execute_result"
    }
   ],
   "source": [
    "df.dtypes.value_counts()"
   ]
  },
  {
   "cell_type": "markdown",
   "metadata": {
    "id": "RszGFG4VM5uf"
   },
   "source": [
    "There are 48 features with int and 41 features with float datatype. There are over 24 features with object datatype which can either be string or dates. \n",
    "\n",
    "Let's have a look at object datatypes:"
   ]
  },
  {
   "cell_type": "code",
   "execution_count": 25,
   "metadata": {
    "id": "ZKhOdLngM3Ii"
   },
   "outputs": [],
   "source": [
    "object_dt_columns = df.columns[df.dtypes=='object'].tolist()"
   ]
  },
  {
   "cell_type": "code",
   "execution_count": 26,
   "metadata": {
    "colab": {
     "base_uri": "https://localhost:8080/"
    },
    "id": "bubGGeuuM74Q",
    "outputId": "33c9377c-b16f-4edc-f05b-a0509c93e97d"
   },
   "outputs": [
    {
     "name": "stdout",
     "output_type": "stream",
     "text": [
      "['term', 'int_rate', 'grade', 'sub_grade', 'emp_title', 'emp_length', 'home_ownership', 'verification_status', 'issue_d', 'loan_status', 'pymnt_plan', 'url', 'purpose', 'title', 'zip_code', 'addr_state', 'earliest_cr_line', 'revol_util', 'initial_list_status', 'last_pymnt_d', 'last_credit_pull_d', 'application_type', 'hardship_flag', 'debt_settlement_flag']\n"
     ]
    }
   ],
   "source": [
    "print(object_dt_columns)"
   ]
  },
  {
   "cell_type": "markdown",
   "metadata": {
    "id": "LaKY1KSiM-dM"
   },
   "source": [
    "# 3. Data preprocessing \n",
    "\n",
    "### 3.1 Feature generator: Convert text/string features to numericals."
   ]
  },
  {
   "cell_type": "code",
   "execution_count": 27,
   "metadata": {
    "id": "HjFbcIQhM9j-"
   },
   "outputs": [],
   "source": [
    "def one_hot_encode_features(df,feature_name):\n",
    "  \"\"\" \n",
    "  One hot encode string features and\n",
    "  delete original string feature\n",
    "  \"\"\"\n",
    "  one_hot = pd.get_dummies(df[feature_name])\n",
    "  one_hot_col_names = one_hot.columns.to_list()\n",
    "  new_one_hot_col_names = [feature_name+'_'+i for i in one_hot_col_names]\n",
    "  one_hot.columns = new_one_hot_col_names\n",
    "  df = pd.concat([df,one_hot], axis = 1)\n",
    "  del df[feature_name]\n",
    "  return df\n",
    "\n",
    "\n",
    "def extract_employement_length(x):\n",
    "  \"\"\" employement length varies from 0 to 10 plus years.\n",
    "  if emp_length < 1, return 0.\n",
    "  if emp_length > 10, return 10.\n",
    "  else return corresponding length(1 to 9)\n",
    "  \"\"\"\n",
    "  if x is np.nan:\n",
    "    return 0\n",
    "  elif '<' in x:\n",
    "    return 0\n",
    "  elif '+' in x:\n",
    "    return 10\n",
    "  else:\n",
    "    return int(x.split()[0])\n",
    "  \n",
    "\n",
    "def text_feature_generator(df):\n",
    "  \"\"\" \n",
    "  text feature generator: Extracts information from text features or\n",
    "  convert categorical values to numerical counterparts.\n",
    "  \"\"\"\n",
    "\n",
    "  # term feature is '36 months' or '60 months'. Strip months and convert to int.\n",
    "  # Example: '36 months' -> 36, '60 months' -> 60\n",
    "  df['term'] = df['term'].map(lambda x: np.int(x.split()[0]))\n",
    "\n",
    "  # features int_rate and revol_util are as 69%, 15% etc. \n",
    "  # Strip '%' and convert it to float.\n",
    "  df['int_rate'] = df['int_rate'].str.replace('%','').astype(float)\n",
    "  df['revol_util'] = df['revol_util'].str.replace('%','').astype(float)\n",
    "\n",
    "  # remove grade feature as subgrade consists of grade.\n",
    "  # For example c1 has grade c, level 1.\n",
    "  del df['grade']\n",
    "\n",
    "  # label encode based on subgrade\n",
    "  # We do label encoding as generally grade A loans are in general considered safer than grade B and so on. \n",
    "  sub_grades_list = df['sub_grade'].unique().tolist()\n",
    "  sub_grades_list.sort()\n",
    "  sub_grades_dict = {k: v for v, k in enumerate(sub_grades_list)}\n",
    "  \n",
    "  df['sub_grade'] = df['sub_grade'].map(lambda x: sub_grades_dict[x])\n",
    "\n",
    "  # Remove employement title as we donot have sufficient data on which employement areas repay loan well. \n",
    "  # Maybe an area to explore later. \n",
    "  del df['emp_title']\n",
    "\n",
    "  # Extract employement length from text\n",
    "  df['emp_length'] = df['emp_length'].map(extract_employement_length)\n",
    "\n",
    "  # one hot encode home ownership feature: mortgage, rent, own and any. \n",
    "  df = one_hot_encode_features(df,'home_ownership')\n",
    "\n",
    "  # map loan status: 0 for fully paid and 1 for charged off.\n",
    "  df['loan_status'] = df['loan_status'].map(lambda x: 0 if x == 'Fully Paid' else 1)\n",
    "\n",
    "  # one hot encode purpose feature.\n",
    "  df = one_hot_encode_features(df,'purpose')\n",
    "\n",
    "  #df['days_between_last_date_and_loan_issuance'] =  pd.to_datetime(df['last_pymnt_d']) - pd.to_datetime(df['issue_d']) \n",
    "\n",
    "\n",
    "  # pymnt_plan is 'n' for all the rows and thus can be deleted.\n",
    "  # deleted many features as they have close to 0 variance. \n",
    "  # Deleted state and zipcode as of now. Will work on it if time permits.\n",
    "  # deleted last payement date as I assumed while issuing a loan, this event occurs at the end.\n",
    "  df.drop(['issue_d', 'pymnt_plan','verification_status',\n",
    "           'url','title','zip_code','addr_state',\n",
    "           'earliest_cr_line','initial_list_status',\n",
    "           'last_pymnt_d','last_credit_pull_d','debt_settlement_flag',\n",
    "           'application_type', 'hardship_flag'], axis=1, inplace=True)\n",
    "\n",
    "  return df\n",
    "\n"
   ]
  },
  {
   "cell_type": "code",
   "execution_count": 28,
   "metadata": {
    "colab": {
     "base_uri": "https://localhost:8080/",
     "height": 244
    },
    "id": "_z-v4oGhNB-b",
    "outputId": "4095d69c-c70e-4158-b13d-8c3a0d946cde"
   },
   "outputs": [
    {
     "data": {
      "text/html": [
       "<div>\n",
       "<style scoped>\n",
       "    .dataframe tbody tr th:only-of-type {\n",
       "        vertical-align: middle;\n",
       "    }\n",
       "\n",
       "    .dataframe tbody tr th {\n",
       "        vertical-align: top;\n",
       "    }\n",
       "\n",
       "    .dataframe thead th {\n",
       "        text-align: right;\n",
       "    }\n",
       "</style>\n",
       "<table border=\"1\" class=\"dataframe\">\n",
       "  <thead>\n",
       "    <tr style=\"text-align: right;\">\n",
       "      <th></th>\n",
       "      <th>id</th>\n",
       "      <th>loan_amnt</th>\n",
       "      <th>funded_amnt</th>\n",
       "      <th>funded_amnt_inv</th>\n",
       "      <th>term</th>\n",
       "      <th>int_rate</th>\n",
       "      <th>installment</th>\n",
       "      <th>sub_grade</th>\n",
       "      <th>emp_length</th>\n",
       "      <th>annual_inc</th>\n",
       "      <th>loan_status</th>\n",
       "      <th>dti</th>\n",
       "      <th>delinq_2yrs</th>\n",
       "      <th>fico_range_low</th>\n",
       "      <th>fico_range_high</th>\n",
       "      <th>inq_last_6mths</th>\n",
       "      <th>mths_since_last_delinq</th>\n",
       "      <th>mths_since_last_record</th>\n",
       "      <th>open_acc</th>\n",
       "      <th>pub_rec</th>\n",
       "      <th>revol_bal</th>\n",
       "      <th>revol_util</th>\n",
       "      <th>total_acc</th>\n",
       "      <th>out_prncp</th>\n",
       "      <th>out_prncp_inv</th>\n",
       "      <th>total_pymnt</th>\n",
       "      <th>total_pymnt_inv</th>\n",
       "      <th>total_rec_prncp</th>\n",
       "      <th>total_rec_int</th>\n",
       "      <th>total_rec_late_fee</th>\n",
       "      <th>recoveries</th>\n",
       "      <th>collection_recovery_fee</th>\n",
       "      <th>last_pymnt_amnt</th>\n",
       "      <th>last_fico_range_high</th>\n",
       "      <th>last_fico_range_low</th>\n",
       "      <th>collections_12_mths_ex_med</th>\n",
       "      <th>mths_since_last_major_derog</th>\n",
       "      <th>policy_code</th>\n",
       "      <th>acc_now_delinq</th>\n",
       "      <th>tot_coll_amt</th>\n",
       "      <th>...</th>\n",
       "      <th>num_accts_ever_120_pd</th>\n",
       "      <th>num_actv_bc_tl</th>\n",
       "      <th>num_actv_rev_tl</th>\n",
       "      <th>num_bc_sats</th>\n",
       "      <th>num_bc_tl</th>\n",
       "      <th>num_il_tl</th>\n",
       "      <th>num_op_rev_tl</th>\n",
       "      <th>num_rev_accts</th>\n",
       "      <th>num_rev_tl_bal_gt_0</th>\n",
       "      <th>num_sats</th>\n",
       "      <th>num_tl_120dpd_2m</th>\n",
       "      <th>num_tl_30dpd</th>\n",
       "      <th>num_tl_90g_dpd_24m</th>\n",
       "      <th>num_tl_op_past_12m</th>\n",
       "      <th>pct_tl_nvr_dlq</th>\n",
       "      <th>percent_bc_gt_75</th>\n",
       "      <th>pub_rec_bankruptcies</th>\n",
       "      <th>tax_liens</th>\n",
       "      <th>tot_hi_cred_lim</th>\n",
       "      <th>total_bal_ex_mort</th>\n",
       "      <th>total_bc_limit</th>\n",
       "      <th>total_il_high_credit_limit</th>\n",
       "      <th>hardship_status</th>\n",
       "      <th>settlement_status</th>\n",
       "      <th>home_ownership_ANY</th>\n",
       "      <th>home_ownership_MORTGAGE</th>\n",
       "      <th>home_ownership_OWN</th>\n",
       "      <th>home_ownership_RENT</th>\n",
       "      <th>purpose_car</th>\n",
       "      <th>purpose_credit_card</th>\n",
       "      <th>purpose_debt_consolidation</th>\n",
       "      <th>purpose_home_improvement</th>\n",
       "      <th>purpose_house</th>\n",
       "      <th>purpose_major_purchase</th>\n",
       "      <th>purpose_medical</th>\n",
       "      <th>purpose_moving</th>\n",
       "      <th>purpose_other</th>\n",
       "      <th>purpose_renewable_energy</th>\n",
       "      <th>purpose_small_business</th>\n",
       "      <th>purpose_vacation</th>\n",
       "    </tr>\n",
       "  </thead>\n",
       "  <tbody>\n",
       "    <tr>\n",
       "      <th>0</th>\n",
       "      <td>68446771</td>\n",
       "      <td>7200</td>\n",
       "      <td>7200</td>\n",
       "      <td>7200</td>\n",
       "      <td>36</td>\n",
       "      <td>15.77</td>\n",
       "      <td>252.32</td>\n",
       "      <td>15</td>\n",
       "      <td>0</td>\n",
       "      <td>55000.0</td>\n",
       "      <td>0</td>\n",
       "      <td>17.35</td>\n",
       "      <td>0</td>\n",
       "      <td>680</td>\n",
       "      <td>684</td>\n",
       "      <td>0</td>\n",
       "      <td>59.0</td>\n",
       "      <td>74.0</td>\n",
       "      <td>24</td>\n",
       "      <td>1</td>\n",
       "      <td>5938</td>\n",
       "      <td>69.0</td>\n",
       "      <td>43</td>\n",
       "      <td>0.0</td>\n",
       "      <td>0.0</td>\n",
       "      <td>8894.319824</td>\n",
       "      <td>8894.32</td>\n",
       "      <td>7200.00</td>\n",
       "      <td>1694.32</td>\n",
       "      <td>0.0</td>\n",
       "      <td>0.0</td>\n",
       "      <td>0.00</td>\n",
       "      <td>2602.09</td>\n",
       "      <td>774</td>\n",
       "      <td>770</td>\n",
       "      <td>0</td>\n",
       "      <td>NaN</td>\n",
       "      <td>1</td>\n",
       "      <td>0</td>\n",
       "      <td>0</td>\n",
       "      <td>...</td>\n",
       "      <td>0</td>\n",
       "      <td>2</td>\n",
       "      <td>3</td>\n",
       "      <td>4</td>\n",
       "      <td>5</td>\n",
       "      <td>35</td>\n",
       "      <td>6</td>\n",
       "      <td>8.0</td>\n",
       "      <td>3</td>\n",
       "      <td>24</td>\n",
       "      <td>0.0</td>\n",
       "      <td>0</td>\n",
       "      <td>0</td>\n",
       "      <td>3</td>\n",
       "      <td>97.7</td>\n",
       "      <td>50.0</td>\n",
       "      <td>0</td>\n",
       "      <td>1</td>\n",
       "      <td>255047</td>\n",
       "      <td>275831</td>\n",
       "      <td>6700</td>\n",
       "      <td>246447</td>\n",
       "      <td>0</td>\n",
       "      <td>0</td>\n",
       "      <td>0</td>\n",
       "      <td>0</td>\n",
       "      <td>0</td>\n",
       "      <td>1</td>\n",
       "      <td>0</td>\n",
       "      <td>0</td>\n",
       "      <td>1</td>\n",
       "      <td>0</td>\n",
       "      <td>0</td>\n",
       "      <td>0</td>\n",
       "      <td>0</td>\n",
       "      <td>0</td>\n",
       "      <td>0</td>\n",
       "      <td>0</td>\n",
       "      <td>0</td>\n",
       "      <td>0</td>\n",
       "    </tr>\n",
       "    <tr>\n",
       "      <th>1</th>\n",
       "      <td>68367009</td>\n",
       "      <td>14025</td>\n",
       "      <td>14025</td>\n",
       "      <td>14025</td>\n",
       "      <td>60</td>\n",
       "      <td>18.49</td>\n",
       "      <td>359.90</td>\n",
       "      <td>19</td>\n",
       "      <td>10</td>\n",
       "      <td>39000.0</td>\n",
       "      <td>0</td>\n",
       "      <td>18.00</td>\n",
       "      <td>0</td>\n",
       "      <td>675</td>\n",
       "      <td>679</td>\n",
       "      <td>1</td>\n",
       "      <td>NaN</td>\n",
       "      <td>NaN</td>\n",
       "      <td>12</td>\n",
       "      <td>0</td>\n",
       "      <td>15646</td>\n",
       "      <td>74.9</td>\n",
       "      <td>21</td>\n",
       "      <td>0.0</td>\n",
       "      <td>0.0</td>\n",
       "      <td>16341.390792</td>\n",
       "      <td>16341.39</td>\n",
       "      <td>14025.00</td>\n",
       "      <td>2316.39</td>\n",
       "      <td>0.0</td>\n",
       "      <td>0.0</td>\n",
       "      <td>0.00</td>\n",
       "      <td>12764.01</td>\n",
       "      <td>709</td>\n",
       "      <td>705</td>\n",
       "      <td>0</td>\n",
       "      <td>NaN</td>\n",
       "      <td>1</td>\n",
       "      <td>0</td>\n",
       "      <td>0</td>\n",
       "      <td>...</td>\n",
       "      <td>0</td>\n",
       "      <td>3</td>\n",
       "      <td>11</td>\n",
       "      <td>3</td>\n",
       "      <td>3</td>\n",
       "      <td>4</td>\n",
       "      <td>11</td>\n",
       "      <td>13.0</td>\n",
       "      <td>11</td>\n",
       "      <td>12</td>\n",
       "      <td>0.0</td>\n",
       "      <td>0</td>\n",
       "      <td>0</td>\n",
       "      <td>2</td>\n",
       "      <td>100.0</td>\n",
       "      <td>66.7</td>\n",
       "      <td>0</td>\n",
       "      <td>0</td>\n",
       "      <td>72286</td>\n",
       "      <td>15646</td>\n",
       "      <td>8800</td>\n",
       "      <td>0</td>\n",
       "      <td>0</td>\n",
       "      <td>0</td>\n",
       "      <td>0</td>\n",
       "      <td>1</td>\n",
       "      <td>0</td>\n",
       "      <td>0</td>\n",
       "      <td>0</td>\n",
       "      <td>0</td>\n",
       "      <td>1</td>\n",
       "      <td>0</td>\n",
       "      <td>0</td>\n",
       "      <td>0</td>\n",
       "      <td>0</td>\n",
       "      <td>0</td>\n",
       "      <td>0</td>\n",
       "      <td>0</td>\n",
       "      <td>0</td>\n",
       "      <td>0</td>\n",
       "    </tr>\n",
       "    <tr>\n",
       "      <th>2</th>\n",
       "      <td>68585839</td>\n",
       "      <td>17475</td>\n",
       "      <td>17475</td>\n",
       "      <td>17475</td>\n",
       "      <td>36</td>\n",
       "      <td>13.99</td>\n",
       "      <td>597.17</td>\n",
       "      <td>13</td>\n",
       "      <td>2</td>\n",
       "      <td>39750.0</td>\n",
       "      <td>1</td>\n",
       "      <td>23.58</td>\n",
       "      <td>0</td>\n",
       "      <td>695</td>\n",
       "      <td>699</td>\n",
       "      <td>0</td>\n",
       "      <td>27.0</td>\n",
       "      <td>NaN</td>\n",
       "      <td>7</td>\n",
       "      <td>0</td>\n",
       "      <td>10987</td>\n",
       "      <td>52.3</td>\n",
       "      <td>13</td>\n",
       "      <td>0.0</td>\n",
       "      <td>0.0</td>\n",
       "      <td>15789.650000</td>\n",
       "      <td>15789.65</td>\n",
       "      <td>8303.45</td>\n",
       "      <td>3104.20</td>\n",
       "      <td>0.0</td>\n",
       "      <td>4382.0</td>\n",
       "      <td>788.76</td>\n",
       "      <td>597.17</td>\n",
       "      <td>589</td>\n",
       "      <td>585</td>\n",
       "      <td>0</td>\n",
       "      <td>NaN</td>\n",
       "      <td>1</td>\n",
       "      <td>0</td>\n",
       "      <td>0</td>\n",
       "      <td>...</td>\n",
       "      <td>0</td>\n",
       "      <td>2</td>\n",
       "      <td>2</td>\n",
       "      <td>4</td>\n",
       "      <td>5</td>\n",
       "      <td>6</td>\n",
       "      <td>4</td>\n",
       "      <td>7.0</td>\n",
       "      <td>2</td>\n",
       "      <td>7</td>\n",
       "      <td>0.0</td>\n",
       "      <td>0</td>\n",
       "      <td>0</td>\n",
       "      <td>1</td>\n",
       "      <td>84.6</td>\n",
       "      <td>0.0</td>\n",
       "      <td>0</td>\n",
       "      <td>0</td>\n",
       "      <td>50240</td>\n",
       "      <td>32365</td>\n",
       "      <td>21000</td>\n",
       "      <td>29240</td>\n",
       "      <td>0</td>\n",
       "      <td>1</td>\n",
       "      <td>0</td>\n",
       "      <td>0</td>\n",
       "      <td>0</td>\n",
       "      <td>1</td>\n",
       "      <td>0</td>\n",
       "      <td>0</td>\n",
       "      <td>1</td>\n",
       "      <td>0</td>\n",
       "      <td>0</td>\n",
       "      <td>0</td>\n",
       "      <td>0</td>\n",
       "      <td>0</td>\n",
       "      <td>0</td>\n",
       "      <td>0</td>\n",
       "      <td>0</td>\n",
       "      <td>0</td>\n",
       "    </tr>\n",
       "    <tr>\n",
       "      <th>3</th>\n",
       "      <td>68577849</td>\n",
       "      <td>18000</td>\n",
       "      <td>18000</td>\n",
       "      <td>18000</td>\n",
       "      <td>60</td>\n",
       "      <td>11.99</td>\n",
       "      <td>400.31</td>\n",
       "      <td>10</td>\n",
       "      <td>10</td>\n",
       "      <td>112000.0</td>\n",
       "      <td>0</td>\n",
       "      <td>8.68</td>\n",
       "      <td>0</td>\n",
       "      <td>800</td>\n",
       "      <td>804</td>\n",
       "      <td>0</td>\n",
       "      <td>NaN</td>\n",
       "      <td>NaN</td>\n",
       "      <td>17</td>\n",
       "      <td>0</td>\n",
       "      <td>10711</td>\n",
       "      <td>15.5</td>\n",
       "      <td>27</td>\n",
       "      <td>0.0</td>\n",
       "      <td>0.0</td>\n",
       "      <td>18387.220000</td>\n",
       "      <td>18387.22</td>\n",
       "      <td>18000.00</td>\n",
       "      <td>387.22</td>\n",
       "      <td>0.0</td>\n",
       "      <td>0.0</td>\n",
       "      <td>0.00</td>\n",
       "      <td>18004.90</td>\n",
       "      <td>699</td>\n",
       "      <td>695</td>\n",
       "      <td>0</td>\n",
       "      <td>NaN</td>\n",
       "      <td>1</td>\n",
       "      <td>0</td>\n",
       "      <td>0</td>\n",
       "      <td>...</td>\n",
       "      <td>0</td>\n",
       "      <td>5</td>\n",
       "      <td>6</td>\n",
       "      <td>12</td>\n",
       "      <td>12</td>\n",
       "      <td>6</td>\n",
       "      <td>15</td>\n",
       "      <td>17.0</td>\n",
       "      <td>6</td>\n",
       "      <td>16</td>\n",
       "      <td>0.0</td>\n",
       "      <td>0</td>\n",
       "      <td>0</td>\n",
       "      <td>4</td>\n",
       "      <td>100.0</td>\n",
       "      <td>0.0</td>\n",
       "      <td>0</td>\n",
       "      <td>0</td>\n",
       "      <td>309710</td>\n",
       "      <td>36127</td>\n",
       "      <td>69800</td>\n",
       "      <td>26210</td>\n",
       "      <td>0</td>\n",
       "      <td>0</td>\n",
       "      <td>0</td>\n",
       "      <td>1</td>\n",
       "      <td>0</td>\n",
       "      <td>0</td>\n",
       "      <td>0</td>\n",
       "      <td>0</td>\n",
       "      <td>1</td>\n",
       "      <td>0</td>\n",
       "      <td>0</td>\n",
       "      <td>0</td>\n",
       "      <td>0</td>\n",
       "      <td>0</td>\n",
       "      <td>0</td>\n",
       "      <td>0</td>\n",
       "      <td>0</td>\n",
       "      <td>0</td>\n",
       "    </tr>\n",
       "    <tr>\n",
       "      <th>4</th>\n",
       "      <td>68587652</td>\n",
       "      <td>25000</td>\n",
       "      <td>25000</td>\n",
       "      <td>25000</td>\n",
       "      <td>36</td>\n",
       "      <td>5.32</td>\n",
       "      <td>752.87</td>\n",
       "      <td>0</td>\n",
       "      <td>1</td>\n",
       "      <td>150000.0</td>\n",
       "      <td>0</td>\n",
       "      <td>9.54</td>\n",
       "      <td>0</td>\n",
       "      <td>795</td>\n",
       "      <td>799</td>\n",
       "      <td>0</td>\n",
       "      <td>NaN</td>\n",
       "      <td>NaN</td>\n",
       "      <td>7</td>\n",
       "      <td>0</td>\n",
       "      <td>19339</td>\n",
       "      <td>42.5</td>\n",
       "      <td>18</td>\n",
       "      <td>0.0</td>\n",
       "      <td>0.0</td>\n",
       "      <td>27033.110864</td>\n",
       "      <td>27033.11</td>\n",
       "      <td>25000.00</td>\n",
       "      <td>2033.11</td>\n",
       "      <td>0.0</td>\n",
       "      <td>0.0</td>\n",
       "      <td>0.00</td>\n",
       "      <td>752.86</td>\n",
       "      <td>784</td>\n",
       "      <td>780</td>\n",
       "      <td>0</td>\n",
       "      <td>NaN</td>\n",
       "      <td>1</td>\n",
       "      <td>0</td>\n",
       "      <td>0</td>\n",
       "      <td>...</td>\n",
       "      <td>0</td>\n",
       "      <td>1</td>\n",
       "      <td>1</td>\n",
       "      <td>3</td>\n",
       "      <td>3</td>\n",
       "      <td>4</td>\n",
       "      <td>4</td>\n",
       "      <td>7.0</td>\n",
       "      <td>1</td>\n",
       "      <td>7</td>\n",
       "      <td>0.0</td>\n",
       "      <td>0</td>\n",
       "      <td>0</td>\n",
       "      <td>1</td>\n",
       "      <td>100.0</td>\n",
       "      <td>0.0</td>\n",
       "      <td>0</td>\n",
       "      <td>0</td>\n",
       "      <td>512381</td>\n",
       "      <td>44786</td>\n",
       "      <td>44000</td>\n",
       "      <td>51081</td>\n",
       "      <td>0</td>\n",
       "      <td>0</td>\n",
       "      <td>0</td>\n",
       "      <td>1</td>\n",
       "      <td>0</td>\n",
       "      <td>0</td>\n",
       "      <td>0</td>\n",
       "      <td>1</td>\n",
       "      <td>0</td>\n",
       "      <td>0</td>\n",
       "      <td>0</td>\n",
       "      <td>0</td>\n",
       "      <td>0</td>\n",
       "      <td>0</td>\n",
       "      <td>0</td>\n",
       "      <td>0</td>\n",
       "      <td>0</td>\n",
       "      <td>0</td>\n",
       "    </tr>\n",
       "  </tbody>\n",
       "</table>\n",
       "<p>5 rows × 111 columns</p>\n",
       "</div>"
      ],
      "text/plain": [
       "         id  loan_amnt  ...  purpose_small_business  purpose_vacation\n",
       "0  68446771       7200  ...                       0                 0\n",
       "1  68367009      14025  ...                       0                 0\n",
       "2  68585839      17475  ...                       0                 0\n",
       "3  68577849      18000  ...                       0                 0\n",
       "4  68587652      25000  ...                       0                 0\n",
       "\n",
       "[5 rows x 111 columns]"
      ]
     },
     "execution_count": 28,
     "metadata": {
      "tags": []
     },
     "output_type": "execute_result"
    }
   ],
   "source": [
    "df = text_feature_generator(df)\n",
    "df.head()"
   ]
  },
  {
   "cell_type": "code",
   "execution_count": 29,
   "metadata": {
    "colab": {
     "base_uri": "https://localhost:8080/"
    },
    "id": "-TGF7McNNEcM",
    "outputId": "1cb97e95-bac4-4037-d72c-a30106dcf7d7"
   },
   "outputs": [
    {
     "data": {
      "text/plain": [
       "int64      52\n",
       "float64    43\n",
       "uint8      16\n",
       "dtype: int64"
      ]
     },
     "execution_count": 29,
     "metadata": {
      "tags": []
     },
     "output_type": "execute_result"
    }
   ],
   "source": [
    "df.dtypes.value_counts()"
   ]
  },
  {
   "cell_type": "markdown",
   "metadata": {
    "id": "bHQ75o3HNJsL"
   },
   "source": [
    "As we can see, using feature generator, we converted all string based features into numerical features."
   ]
  },
  {
   "cell_type": "markdown",
   "metadata": {
    "id": "R4eS1GGxNNW9"
   },
   "source": [
    "### 3.2 Correlation with loan status"
   ]
  },
  {
   "cell_type": "code",
   "execution_count": 30,
   "metadata": {
    "colab": {
     "base_uri": "https://localhost:8080/",
     "height": 360
    },
    "id": "CWqKIJYyNGsh",
    "outputId": "1908351f-0557-4c9c-f360-4a3009f52b86"
   },
   "outputs": [
    {
     "name": "stdout",
     "output_type": "stream",
     "text": [
      "Top 10 features which are highly correlated with loan_status:\n"
     ]
    },
    {
     "data": {
      "text/html": [
       "<div>\n",
       "<style scoped>\n",
       "    .dataframe tbody tr th:only-of-type {\n",
       "        vertical-align: middle;\n",
       "    }\n",
       "\n",
       "    .dataframe tbody tr th {\n",
       "        vertical-align: top;\n",
       "    }\n",
       "\n",
       "    .dataframe thead th {\n",
       "        text-align: right;\n",
       "    }\n",
       "</style>\n",
       "<table border=\"1\" class=\"dataframe\">\n",
       "  <thead>\n",
       "    <tr style=\"text-align: right;\">\n",
       "      <th></th>\n",
       "      <th>Feature</th>\n",
       "      <th>correlation</th>\n",
       "    </tr>\n",
       "  </thead>\n",
       "  <tbody>\n",
       "    <tr>\n",
       "      <th>0</th>\n",
       "      <td>recoveries</td>\n",
       "      <td>0.522864</td>\n",
       "    </tr>\n",
       "    <tr>\n",
       "      <th>1</th>\n",
       "      <td>collection_recovery_fee</td>\n",
       "      <td>0.519439</td>\n",
       "    </tr>\n",
       "    <tr>\n",
       "      <th>2</th>\n",
       "      <td>settlement_status</td>\n",
       "      <td>0.388314</td>\n",
       "    </tr>\n",
       "    <tr>\n",
       "      <th>3</th>\n",
       "      <td>sub_grade</td>\n",
       "      <td>0.285864</td>\n",
       "    </tr>\n",
       "    <tr>\n",
       "      <th>4</th>\n",
       "      <td>int_rate</td>\n",
       "      <td>0.285575</td>\n",
       "    </tr>\n",
       "    <tr>\n",
       "      <th>5</th>\n",
       "      <td>term</td>\n",
       "      <td>0.178850</td>\n",
       "    </tr>\n",
       "    <tr>\n",
       "      <th>6</th>\n",
       "      <td>acc_open_past_24mths</td>\n",
       "      <td>0.136580</td>\n",
       "    </tr>\n",
       "    <tr>\n",
       "      <th>7</th>\n",
       "      <td>total_rec_late_fee</td>\n",
       "      <td>0.115847</td>\n",
       "    </tr>\n",
       "    <tr>\n",
       "      <th>8</th>\n",
       "      <td>num_tl_op_past_12m</td>\n",
       "      <td>0.114011</td>\n",
       "    </tr>\n",
       "    <tr>\n",
       "      <th>9</th>\n",
       "      <td>open_rv_24m</td>\n",
       "      <td>0.108414</td>\n",
       "    </tr>\n",
       "  </tbody>\n",
       "</table>\n",
       "</div>"
      ],
      "text/plain": [
       "                   Feature  correlation\n",
       "0               recoveries     0.522864\n",
       "1  collection_recovery_fee     0.519439\n",
       "2        settlement_status     0.388314\n",
       "3                sub_grade     0.285864\n",
       "4                 int_rate     0.285575\n",
       "5                     term     0.178850\n",
       "6     acc_open_past_24mths     0.136580\n",
       "7       total_rec_late_fee     0.115847\n",
       "8       num_tl_op_past_12m     0.114011\n",
       "9              open_rv_24m     0.108414"
      ]
     },
     "execution_count": 30,
     "metadata": {
      "tags": []
     },
     "output_type": "execute_result"
    }
   ],
   "source": [
    "corr_matrix = df.corr()\n",
    "print('Top 10 features which are highly correlated with loan_status:')\n",
    "cor_df = corr_matrix[\"loan_status\"].sort_values(ascending=False)[1:11].to_frame()\n",
    "cor_df.reset_index(inplace=True)\n",
    "cor_df.columns = ['Feature','correlation']\n",
    "cor_df"
   ]
  },
  {
   "cell_type": "markdown",
   "metadata": {
    "id": "KTk1oq8oNTfb"
   },
   "source": [
    "As we can see recoveries is highly correlated with loan_status followed by collection recovery fee and settlement status. However events like recovery and settlement occurs if the loan payments are consistently delayed or if the account is charged off. So I decided to remove recoveries, collection recovery fees and settlement status features. Is this a good move?  Any previous recoveries and settlements often serves as alarm while giving loans. But in the data provided, we don't have  recovery information for current loans."
   ]
  },
  {
   "cell_type": "code",
   "execution_count": 31,
   "metadata": {
    "id": "1f3ROtL2NPvf"
   },
   "outputs": [],
   "source": [
    "df.drop(['recoveries','collection_recovery_fee','settlement_status'], axis=1,inplace=True)"
   ]
  },
  {
   "cell_type": "code",
   "execution_count": 32,
   "metadata": {
    "colab": {
     "base_uri": "https://localhost:8080/",
     "height": 360
    },
    "id": "z2jpJxYTNWW_",
    "outputId": "c7773678-514e-4fbe-fdd1-ee77beb1d65d"
   },
   "outputs": [
    {
     "name": "stdout",
     "output_type": "stream",
     "text": [
      "Top 10 features which are highly correlated with loan_status:\n"
     ]
    },
    {
     "data": {
      "text/html": [
       "<div>\n",
       "<style scoped>\n",
       "    .dataframe tbody tr th:only-of-type {\n",
       "        vertical-align: middle;\n",
       "    }\n",
       "\n",
       "    .dataframe tbody tr th {\n",
       "        vertical-align: top;\n",
       "    }\n",
       "\n",
       "    .dataframe thead th {\n",
       "        text-align: right;\n",
       "    }\n",
       "</style>\n",
       "<table border=\"1\" class=\"dataframe\">\n",
       "  <thead>\n",
       "    <tr style=\"text-align: right;\">\n",
       "      <th></th>\n",
       "      <th>Feature</th>\n",
       "      <th>correlation</th>\n",
       "    </tr>\n",
       "  </thead>\n",
       "  <tbody>\n",
       "    <tr>\n",
       "      <th>0</th>\n",
       "      <td>sub_grade</td>\n",
       "      <td>0.285864</td>\n",
       "    </tr>\n",
       "    <tr>\n",
       "      <th>1</th>\n",
       "      <td>int_rate</td>\n",
       "      <td>0.285575</td>\n",
       "    </tr>\n",
       "    <tr>\n",
       "      <th>2</th>\n",
       "      <td>term</td>\n",
       "      <td>0.178850</td>\n",
       "    </tr>\n",
       "    <tr>\n",
       "      <th>3</th>\n",
       "      <td>acc_open_past_24mths</td>\n",
       "      <td>0.136580</td>\n",
       "    </tr>\n",
       "    <tr>\n",
       "      <th>4</th>\n",
       "      <td>total_rec_late_fee</td>\n",
       "      <td>0.115847</td>\n",
       "    </tr>\n",
       "    <tr>\n",
       "      <th>5</th>\n",
       "      <td>num_tl_op_past_12m</td>\n",
       "      <td>0.114011</td>\n",
       "    </tr>\n",
       "    <tr>\n",
       "      <th>6</th>\n",
       "      <td>open_rv_24m</td>\n",
       "      <td>0.108414</td>\n",
       "    </tr>\n",
       "    <tr>\n",
       "      <th>7</th>\n",
       "      <td>dti</td>\n",
       "      <td>0.096661</td>\n",
       "    </tr>\n",
       "    <tr>\n",
       "      <th>8</th>\n",
       "      <td>open_il_24m</td>\n",
       "      <td>0.095335</td>\n",
       "    </tr>\n",
       "    <tr>\n",
       "      <th>9</th>\n",
       "      <td>inq_last_6mths</td>\n",
       "      <td>0.092867</td>\n",
       "    </tr>\n",
       "  </tbody>\n",
       "</table>\n",
       "</div>"
      ],
      "text/plain": [
       "                Feature  correlation\n",
       "0             sub_grade     0.285864\n",
       "1              int_rate     0.285575\n",
       "2                  term     0.178850\n",
       "3  acc_open_past_24mths     0.136580\n",
       "4    total_rec_late_fee     0.115847\n",
       "5    num_tl_op_past_12m     0.114011\n",
       "6           open_rv_24m     0.108414\n",
       "7                   dti     0.096661\n",
       "8           open_il_24m     0.095335\n",
       "9        inq_last_6mths     0.092867"
      ]
     },
     "execution_count": 32,
     "metadata": {
      "tags": []
     },
     "output_type": "execute_result"
    }
   ],
   "source": [
    "# correlation with loan status\n",
    "new_corr_matrix = df.corr()\n",
    "print('Top 10 features which are highly correlated with loan_status:')\n",
    "new_cor_df = new_corr_matrix[\"loan_status\"].sort_values(ascending=False)[1:11].to_frame()\n",
    "new_cor_df.reset_index(inplace=True)\n",
    "new_cor_df.columns = ['Feature','correlation']\n",
    "new_cor_df"
   ]
  },
  {
   "cell_type": "code",
   "execution_count": 33,
   "metadata": {
    "colab": {
     "base_uri": "https://localhost:8080/",
     "height": 753
    },
    "id": "vVpxJUf3NYkP",
    "outputId": "57020718-2e2a-4337-cbb1-2045fee7b63c"
   },
   "outputs": [
    {
     "name": "stdout",
     "output_type": "stream",
     "text": [
      "Correlation heatmap: \n",
      "\n"
     ]
    },
    {
     "data": {
      "text/plain": [
       "<matplotlib.axes._subplots.AxesSubplot at 0x7f91d360c470>"
      ]
     },
     "execution_count": 33,
     "metadata": {
      "tags": []
     },
     "output_type": "execute_result"
    },
    {
     "data": {
      "image/png": "[encoded data removed]",
      "text/plain": [
       "<Figure size 720x720 with 2 Axes>"
      ]
     },
     "metadata": {
      "needs_background": "light",
      "tags": []
     },
     "output_type": "display_data"
    }
   ],
   "source": [
    "# correlation heatmap \n",
    "highly_cor_features =['loan_status'] + new_cor_df['Feature'].values.tolist()\n",
    "df_cor = df[highly_cor_features]\n",
    "corr = df_cor.corr()\n",
    "fig, ax = plt.subplots(figsize=(10,10))    \n",
    "print('Correlation heatmap:','\\n')     \n",
    "sns.heatmap(corr, xticklabels=corr.columns, yticklabels=corr.columns, annot=True\n",
    "            , linewidths=.5, ax=ax)\n"
   ]
  },
  {
   "cell_type": "markdown",
   "metadata": {
    "id": "M4rdpNJ5Nfkg"
   },
   "source": [
    "### 3.3 Treating null values"
   ]
  },
  {
   "cell_type": "code",
   "execution_count": 34,
   "metadata": {
    "colab": {
     "base_uri": "https://localhost:8080/"
    },
    "id": "hpgWjO20NaUy",
    "outputId": "007f01a1-9419-499c-a360-bae24e1d5f1f"
   },
   "outputs": [
    {
     "data": {
      "text/plain": [
       "Index(['dti', 'mths_since_last_delinq', 'mths_since_last_record', 'revol_util',\n",
       "       'mths_since_last_major_derog', 'open_acc_6m', 'open_act_il',\n",
       "       'open_il_12m', 'open_il_24m', 'mths_since_rcnt_il', 'total_bal_il',\n",
       "       'il_util', 'open_rv_12m', 'open_rv_24m', 'max_bal_bc', 'all_util',\n",
       "       'inq_fi', 'total_cu_tl', 'inq_last_12m', 'bc_open_to_buy', 'bc_util',\n",
       "       'mo_sin_old_il_acct', 'mths_since_recent_bc',\n",
       "       'mths_since_recent_bc_dlq', 'mths_since_recent_inq',\n",
       "       'mths_since_recent_revol_delinq', 'num_rev_accts', 'num_tl_120dpd_2m',\n",
       "       'percent_bc_gt_75'],\n",
       "      dtype='object')"
      ]
     },
     "execution_count": 34,
     "metadata": {
      "tags": []
     },
     "output_type": "execute_result"
    }
   ],
   "source": [
    "# Check columns with null values.\n",
    "df.columns[df.isnull().any()]"
   ]
  },
  {
   "cell_type": "code",
   "execution_count": 35,
   "metadata": {
    "id": "dnRTrRgENhpw"
   },
   "outputs": [],
   "source": [
    "\n",
    "def treat_missing_values(df):\n",
    "\n",
    "  # feature dti: ratio of debt to income. num_missing = 2\n",
    "  df['dti'].fillna(0, inplace=True)\n",
    "\n",
    "  # Replace missing values of all months related features with 0\n",
    "  months_features = ['mths_since_last_delinq','mths_since_last_record',\n",
    "   'mths_since_last_major_derog','mths_since_rcnt_il',\n",
    "   'inq_last_12m','mo_sin_old_il_acct','mths_since_recent_bc',\n",
    "   'mths_since_recent_bc_dlq', 'mths_since_recent_inq',\n",
    "   'mths_since_recent_revol_delinq','bc_open_to_buy', 'bc_util',\n",
    "   'num_rev_accts','num_tl_120dpd_2m', 'percent_bc_gt_75']\n",
    "\n",
    "  df[months_features]=df[months_features].fillna(0)\n",
    "\n",
    "  #revolving utilization. num_missing = 37\n",
    "  df['revol_util']=df['revol_util'].fillna(0)\n",
    "\n",
    "\n",
    "  accounts_months = ['open_acc_6m','open_acc_6m', 'open_act_il',\n",
    "       'open_il_12m', 'open_il_24m','open_rv_12m', 'open_rv_24m',\n",
    "       'total_bal_il','il_util','max_bal_bc','all_util', 'inq_fi',\n",
    "       'total_cu_tl','last_pymnt_amnt']\n",
    "\n",
    "  pymnt_recieved = ['total_rec_late_fee', 'total_rec_prncp', 'total_rec_int',\n",
    "                    'total_pymnt','total_pymnt_inv','out_prncp_inv','out_prncp']\n",
    "\n",
    "  df.drop(accounts_months, axis=1,inplace=True)\n",
    "  df.drop(pymnt_recieved, axis=1,inplace=True)\n",
    "\n",
    "  return df"
   ]
  },
  {
   "cell_type": "code",
   "execution_count": 36,
   "metadata": {
    "colab": {
     "base_uri": "https://localhost:8080/"
    },
    "id": "C9gmSd6hNjij",
    "outputId": "30388cc2-7827-4331-ff5c-7d9a2f007efe"
   },
   "outputs": [
    {
     "data": {
      "text/plain": [
       "Index([], dtype='object')"
      ]
     },
     "execution_count": 36,
     "metadata": {
      "tags": []
     },
     "output_type": "execute_result"
    }
   ],
   "source": [
    "# Check columns with null values.\n",
    "\n",
    "df = treat_missing_values(df)\n",
    "df.columns[df.isnull().any()]"
   ]
  },
  {
   "cell_type": "markdown",
   "metadata": {
    "id": "OijsO-efNn6V"
   },
   "source": [
    "# 4. Feature engineering\n",
    "\n",
    "I observed many columns are identical or 'almost' identical. For example features 'loan_amnt' is exactly same as 'funded_amnt' and almost identical to 'funded_amnt_inv'. So remove highly correlated variables as they make model highyly sensitive to small fluctuations in the data."
   ]
  },
  {
   "cell_type": "code",
   "execution_count": 37,
   "metadata": {
    "colab": {
     "base_uri": "https://localhost:8080/"
    },
    "id": "bKV_4ajHNlF0",
    "outputId": "742c13a8-7ba4-475f-ae54-710567ee7b7e"
   },
   "outputs": [
    {
     "data": {
      "text/plain": [
       "True"
      ]
     },
     "execution_count": 37,
     "metadata": {
      "tags": []
     },
     "output_type": "execute_result"
    }
   ],
   "source": [
    "# check if loan_amnt feature is same as funded_amnt\n",
    "df['loan_amnt'].equals(df['funded_amnt'])"
   ]
  },
  {
   "cell_type": "code",
   "execution_count": 38,
   "metadata": {
    "id": "mXzReB1tNpxq"
   },
   "outputs": [],
   "source": [
    "\n",
    "def remove_highly_correlated_feature(df, threshold = 0.97):\n",
    "  \"\"\" Identify highly correlay features.\n",
    "   Have to modify this as it is removing useful features like fico_range_high,\n",
    "   sub_grade.\n",
    "   \"\"\"\n",
    "  # Create correlation matrix\n",
    "  corr_matrix = df.corr().abs()\n",
    "\n",
    "  # Select upper triangle of correlation matrix\n",
    "  upper = corr_matrix.where(np.triu(np.ones(corr_matrix.shape), k=1).astype(np.bool))\n",
    "\n",
    "  # Find features with correlation greater than 0.97\n",
    "  to_drop = [column for column in upper.columns if any(upper[column] > 0.97)]\n",
    "\n",
    "  # Drop features \n",
    "  df.drop(to_drop, axis=1, inplace=True)\n",
    "\n",
    "  return df\n",
    "\n",
    "\n",
    "to_drop = ['funded_amnt', 'funded_amnt_inv',]\n",
    "df.drop(to_drop, axis=1, inplace=True)\n"
   ]
  },
  {
   "cell_type": "code",
   "execution_count": 39,
   "metadata": {
    "id": "ll8_mZgONrs8"
   },
   "outputs": [],
   "source": [
    "def standard_scaler(df,feature_name):\n",
    "  \"\"\"\n",
    "  Scale values- remove mean and standardize with variance.\n",
    "  \"\"\"\n",
    "  autoscaler = StandardScaler()\n",
    "  df[feature_name] = autoscaler.fit_transform(df[feature_name])\n",
    "  return df\n"
   ]
  },
  {
   "cell_type": "code",
   "execution_count": 40,
   "metadata": {
    "id": "jhRHmC33NtLz"
   },
   "outputs": [],
   "source": [
    "scale_columns = ['fico_range_low','fico_range_high','last_fico_range_high','last_fico_range_low']\n",
    "\n",
    "#features = df[scale_columns]\n",
    "#scaler = StandardScaler().fit(features.values)\n",
    "#features = scaler.transform(features.values)\n",
    "#df[scale_columns] = features\n"
   ]
  },
  {
   "cell_type": "code",
   "execution_count": 41,
   "metadata": {
    "id": "CGulMsNRNu-H"
   },
   "outputs": [],
   "source": [
    "# remove id feature.\n",
    "df.drop('id',axis=1,inplace=True)"
   ]
  },
  {
   "cell_type": "markdown",
   "metadata": {
    "id": "JRCNtCsqNy4L"
   },
   "source": [
    "### Train, val and test split\n",
    "\n",
    "Generate train, validation and test datasets"
   ]
  },
  {
   "cell_type": "code",
   "execution_count": 42,
   "metadata": {
    "id": "fdc7hf4JNwpI"
   },
   "outputs": [],
   "source": [
    "from sklearn.model_selection import train_test_split\n",
    "from sklearn.preprocessing import StandardScaler, MinMaxScaler\n"
   ]
  },
  {
   "cell_type": "code",
   "execution_count": 43,
   "metadata": {
    "id": "ahAsdrcHN1Eo"
   },
   "outputs": [],
   "source": [
    "# Create X(input) and y(output) features.\n",
    "y = df['loan_status'] #target label\n",
    "X = df.drop('loan_status',axis=1)\n",
    "\n",
    "# train dataset\n",
    "X_train, X_val_test, y_train, y_val_test  = train_test_split(X,y, stratify=y, \n",
    "                                   random_state=0,test_size = 0.2)\n",
    "#validation and test datasets\n",
    "X_test, X_val, y_test, y_val = train_test_split(X_val_test,y_val_test, \n",
    "                                                stratify=y_val_test,\n",
    "                                                random_state=0,test_size = 0.2)\n"
   ]
  },
  {
   "cell_type": "code",
   "execution_count": 44,
   "metadata": {
    "id": "667Atqk4N2xY"
   },
   "outputs": [],
   "source": [
    "# Min-max scaler: Standardize the input variables using min-max scaler.\n",
    "# Min-max scaler is performing better than standard-scaler on this dataset. \n",
    "\n",
    "def min_max_scaler(train,val,test):\n",
    "    scaler = MinMaxScaler()\n",
    "    train = scaler.fit_transform(train)\n",
    "    val = scaler.transform(val)\n",
    "    test = scaler.transform(test)\n",
    "    return train,val,test\n",
    "\n",
    "\n",
    "X_train,X_val,X_test = min_max_scaler(X_train,X_val,X_test)"
   ]
  },
  {
   "cell_type": "markdown",
   "metadata": {
    "id": "Td32JPvZN674"
   },
   "source": [
    "# 5. ML modeling\n",
    "\n",
    "My idea was to start small and build a logistic regression model and see how it performs on the data. This serves as baseline model. Later depending on the performance, I will move to more complex models like xgboosting which performs well on tabular data format. Depending on it’s performance, I will try to do hyperparameter tuning or try out different techniques like doing advanced feature engineering like using domain knowledge to create more features etc to improve the model performance. "
   ]
  },
  {
   "cell_type": "code",
   "execution_count": 45,
   "metadata": {
    "id": "aWZuoGK5N4M0"
   },
   "outputs": [],
   "source": [
    "from sklearn.linear_model import LogisticRegression\n",
    "from sklearn.metrics import accuracy_score, confusion_matrix, classification_report, f1_score\n",
    "from sklearn.svm import SVC\n",
    "from sklearn.neighbors import KNeighborsClassifier\n",
    "from xgboost import XGBClassifier\n",
    "from sklearn.model_selection import GridSearchCV"
   ]
  },
  {
   "cell_type": "markdown",
   "metadata": {
    "id": "QUdslpXmN_3V"
   },
   "source": [
    "### 5.1 Logistic regression\n",
    "\n",
    "Let's build logistic regression and see how the model is performing on the train and test datasets. This serves as a baseline model to evaluate the performance."
   ]
  },
  {
   "cell_type": "code",
   "execution_count": 46,
   "metadata": {
    "id": "fYsCIkd2N9pw"
   },
   "outputs": [],
   "source": [
    "\n",
    "def performance_evaluator(y_true, y_pred, model_name):\n",
    "\n",
    "  \"\"\"\n",
    "  Evaluate model performance\n",
    "  \"\"\"\n",
    "\n",
    "  print(model_name,'results:','\\n')\n",
    "\n",
    "  acc = accuracy_score(y_true,y_pred) # accuracy\n",
    "  acc = round(acc*100,4)\n",
    "  print('Accuracy of',model_name,':',acc,'%')\n",
    "\n",
    "  #f1 = f1_score(y_true,y_pred) # f1 score\n",
    "  #f1 = round(f1,4)\n",
    "  #print('F1 score of',model_name,':',f1,'\\n')\n",
    "\n",
    "  print('classification report: ') # classification report\n",
    "  cr = classification_report(y_true,y_pred,target_names=['fully paid', 'charged off'])\n",
    "  print(cr,'\\n')\n",
    "\n",
    "  cm = confusion_matrix(y_true,y_pred) # confusion matrix\n",
    "  print('confusion matrix: ','\\n',cm)\n",
    "  "
   ]
  },
  {
   "cell_type": "code",
   "execution_count": null,
   "metadata": {
    "id": "t9uBB6OsOB5V"
   },
   "outputs": [],
   "source": [
    "# instantiate the model\n",
    "lr = LogisticRegression(max_iter=12000)\n",
    "lr.fit(X_train,y_train) # fit the training data and train the model\n",
    "\n",
    "lr_train_predictions = lr.predict(X_train) # predict on train data\n",
    "lr_test_predictions = lr.predict(X_test) # predict on test data"
   ]
  },
  {
   "cell_type": "code",
   "execution_count": 95,
   "metadata": {
    "colab": {
     "base_uri": "https://localhost:8080/"
    },
    "id": "HzjP5giIODgZ",
    "outputId": "9734d843-0f80-4db3-f122-392aff1bc53e"
   },
   "outputs": [
    {
     "name": "stdout",
     "output_type": "stream",
     "text": [
      "Logistic regression results: \n",
      "\n",
      "Accuracy of Logistic regression : 89.5766 %\n",
      "classification report: \n",
      "              precision    recall  f1-score   support\n",
      "\n",
      "  fully paid       0.93      0.95      0.94     12461\n",
      " charged off       0.76      0.69      0.72      3033\n",
      "\n",
      "    accuracy                           0.90     15494\n",
      "   macro avg       0.84      0.82      0.83     15494\n",
      "weighted avg       0.89      0.90      0.89     15494\n",
      " \n",
      "\n",
      "confusion matrix:  \n",
      " [[11782   679]\n",
      " [  936  2097]]\n"
     ]
    }
   ],
   "source": [
    "performance_evaluator(y_test, lr_test_predictions, 'Logistic regression')"
   ]
  },
  {
   "cell_type": "markdown",
   "metadata": {
    "id": "E5RnC4ZzOHjU"
   },
   "source": [
    "As we can see from above results, logistic regression is performing decently on the data. We got an accuracy of 89%. It is predicting fully paid accounts well(f1 score of 0.94)\n",
    "\n",
    "We can notice, out of 12461 fully paid accounts, the model is able to predict 11782 correctly. Where as out of 3033 charged off accounts, it is able to predict 2097 well and it missed 936 accounts. It resulted in recall of 0.69 for charged off accounts. To improve on recall, I tried out more complex models."
   ]
  },
  {
   "cell_type": "markdown",
   "metadata": {
    "id": "JzudpJvlc5lI"
   },
   "source": [
    "### 5.2 SVM\n",
    "\n",
    "Let's build SVM and see how the model is performing on the train and test datasets. "
   ]
  },
  {
   "cell_type": "code",
   "execution_count": 96,
   "metadata": {
    "id": "VnFYM4ildBFg"
   },
   "outputs": [],
   "source": [
    "# instantiate the model\n",
    "svm = SVC()\n",
    "svm.fit(X_train, y_train)  # fit the training data and train the model\n",
    "\n",
    "svm_train_predictions = svm.predict(X_train) # predict on train data\n",
    "svm_test_predictions = svm.predict(X_test) # predict on test data"
   ]
  },
  {
   "cell_type": "code",
   "execution_count": 97,
   "metadata": {
    "colab": {
     "base_uri": "https://localhost:8080/"
    },
    "id": "yyhX0bnzeWoX",
    "outputId": "66f3f4fb-15a7-424e-d236-53091c0b2ad3"
   },
   "outputs": [
    {
     "name": "stdout",
     "output_type": "stream",
     "text": [
      "SVM results: \n",
      "\n",
      "Accuracy of SVM : 89.6024 %\n",
      "classification report: \n",
      "              precision    recall  f1-score   support\n",
      "\n",
      "  fully paid       0.93      0.94      0.94     12461\n",
      " charged off       0.75      0.70      0.73      3033\n",
      "\n",
      "    accuracy                           0.90     15494\n",
      "   macro avg       0.84      0.82      0.83     15494\n",
      "weighted avg       0.89      0.90      0.89     15494\n",
      " \n",
      "\n",
      "confusion matrix:  \n",
      " [[11746   715]\n",
      " [  896  2137]]\n"
     ]
    }
   ],
   "source": [
    "performance_evaluator(y_test, svm_test_predictions, 'SVM')"
   ]
  },
  {
   "cell_type": "markdown",
   "metadata": {
    "id": "6_XD7H-wigel"
   },
   "source": [
    "### 5.3 KNN\n",
    "\n",
    "Let's build KNN and see how the model is performing on the train and test datasets. "
   ]
  },
  {
   "cell_type": "code",
   "execution_count": 98,
   "metadata": {
    "id": "Rva7M4vnik0a"
   },
   "outputs": [],
   "source": [
    "# instantiate the model\n",
    "knn = KNeighborsClassifier()\n",
    "knn.fit(X_train, y_train)  # fit the training data and train the model\n",
    "\n",
    "#knn_train_predictions = knn.predict(X_train) # predict on train data\n",
    "knn_test_predictions = knn.predict(X_test) # predict on test data"
   ]
  },
  {
   "cell_type": "code",
   "execution_count": 99,
   "metadata": {
    "colab": {
     "base_uri": "https://localhost:8080/"
    },
    "id": "HOnwY-cWim7P",
    "outputId": "daeb1f39-e2ef-4d7f-e3c0-87f0f577d506"
   },
   "outputs": [
    {
     "name": "stdout",
     "output_type": "stream",
     "text": [
      "knn results: \n",
      "\n",
      "Accuracy of knn : 84.2197 %\n",
      "classification report: \n",
      "              precision    recall  f1-score   support\n",
      "\n",
      "  fully paid       0.86      0.96      0.91     12461\n",
      " charged off       0.69      0.35      0.47      3033\n",
      "\n",
      "    accuracy                           0.84     15494\n",
      "   macro avg       0.77      0.66      0.69     15494\n",
      "weighted avg       0.83      0.84      0.82     15494\n",
      " \n",
      "\n",
      "confusion matrix:  \n",
      " [[11975   486]\n",
      " [ 1959  1074]]\n"
     ]
    }
   ],
   "source": [
    "performance_evaluator(y_test, knn_test_predictions, 'knn')"
   ]
  },
  {
   "cell_type": "markdown",
   "metadata": {
    "id": "HvZYkkXzOKUv"
   },
   "source": [
    "# 5.4 Xgboosting\n",
    "\n",
    "Let's train the data on xgboosting"
   ]
  },
  {
   "cell_type": "code",
   "execution_count": 100,
   "metadata": {
    "id": "VWphtwOcOFU7"
   },
   "outputs": [],
   "source": [
    "# instantiate the model\n",
    "xgb = XGBClassifier()\n",
    "xgb.fit(X_train, y_train)  # fit the training data and train the model\n",
    "\n",
    "xgb_train_predictions = xgb.predict(X_train) # predict on train data\n",
    "xgb_test_predictions = xgb.predict(X_test) # predict on test data"
   ]
  },
  {
   "cell_type": "code",
   "execution_count": 101,
   "metadata": {
    "colab": {
     "base_uri": "https://localhost:8080/"
    },
    "id": "24bt35DPON0M",
    "outputId": "550a1ab2-c2bb-46ff-9a98-7c861b56bc62"
   },
   "outputs": [
    {
     "name": "stdout",
     "output_type": "stream",
     "text": [
      "Xgboosting results: \n",
      "\n",
      "Accuracy of Xgboosting : 89.6412 %\n",
      "classification report: \n",
      "              precision    recall  f1-score   support\n",
      "\n",
      "  fully paid       0.94      0.93      0.94     12461\n",
      " charged off       0.73      0.74      0.74      3033\n",
      "\n",
      "    accuracy                           0.90     15494\n",
      "   macro avg       0.83      0.84      0.84     15494\n",
      "weighted avg       0.90      0.90      0.90     15494\n",
      " \n",
      "\n",
      "confusion matrix:  \n",
      " [[11632   829]\n",
      " [  776  2257]]\n"
     ]
    }
   ],
   "source": [
    "performance_evaluator(y_test, xgb_test_predictions, 'Xgboosting')"
   ]
  },
  {
   "cell_type": "markdown",
   "metadata": {
    "id": "f-3mILh8OSOZ"
   },
   "source": [
    "With vanilla **Xgboosting** model without any addons like hyperparameter tuning, feature engineering or regularization, the accuracy is 89.6% and F1 score on fully paid accounts is 0.94 and recall on charged off accounts improved significantly to 0.74. \n",
    "\n",
    "We can notice, out of 12461 good accounts, the model is able to predict all 11632 correctly. Out of 3033 charged off accounts, it is able to predict 2257 well and it missed 776 accounts which is significant improvement over other models logistic regression, SVM. "
   ]
  },
  {
   "cell_type": "code",
   "execution_count": 102,
   "metadata": {
    "colab": {
     "base_uri": "https://localhost:8080/",
     "height": 282
    },
    "id": "qrF-Jz2oOPru",
    "outputId": "fac6e293-5449-4037-caae-9c1ccb144ec4"
   },
   "outputs": [
    {
     "data": {
      "text/plain": [
       "<matplotlib.axes._subplots.AxesSubplot at 0x7f8c7abc84a8>"
      ]
     },
     "execution_count": 102,
     "metadata": {
      "tags": []
     },
     "output_type": "execute_result"
    },
    {
     "data": {
      "image/png": "[encoded data removed]",
      "text/plain": [
       "<Figure size 432x288 with 1 Axes>"
      ]
     },
     "metadata": {
      "needs_background": "light",
      "tags": []
     },
     "output_type": "display_data"
    }
   ],
   "source": [
    "# Feature importance\n",
    "feature_important = xgb.get_booster().get_score(importance_type='weight')\n",
    "\n",
    "l = df.columns.to_list()\n",
    "new_l = {i:v for i,v in enumerate(l)}\n",
    "new_f = {}\n",
    "for i in feature_important:\n",
    "  cur = i\n",
    "  cur = int(cur.replace('f',''))\n",
    "  new_f[new_l[cur]] = feature_important[i]\n",
    "\n",
    "\n",
    "keys = list(new_f.keys())\n",
    "values = list(feature_important.values())\n",
    "\n",
    "data = pd.DataFrame(data=values, index=keys, columns=[\"score\"]).sort_values(by = \"score\", ascending=False)\n",
    "data.head().plot(kind='barh')"
   ]
  },
  {
   "cell_type": "markdown",
   "metadata": {
    "id": "gRhfke9xPvvZ"
   },
   "source": [
    "It's pretty intersting to see that total accounts, loan term and interst rates are affecting the model performance more."
   ]
  },
  {
   "cell_type": "markdown",
   "metadata": {
    "id": "pB2_9LrqnpRT"
   },
   "source": [
    "### 5.5 Xgboosting with polynomial features"
   ]
  },
  {
   "cell_type": "code",
   "execution_count": 47,
   "metadata": {
    "id": "HEujVuJ8cqLx"
   },
   "outputs": [],
   "source": [
    "from sklearn.preprocessing import PolynomialFeatures\n",
    "\n",
    "poly = PolynomialFeatures(degree=2)\n",
    "X_train_poly_2 = poly.fit_transform(X_train)\n",
    "X_test_poly_2 = poly.transform(X_test)"
   ]
  },
  {
   "cell_type": "code",
   "execution_count": 48,
   "metadata": {
    "id": "ssQf8dt4dc9V"
   },
   "outputs": [],
   "source": [
    "# instantiate the model\n",
    "xgb_poly = XGBClassifier()\n",
    "xgb_poly.fit(X_train_poly_2, y_train)  # fit the training data and train the model\n",
    "\n",
    "xgb_test_predictions = xgb_poly.predict(X_test_poly_2) # predict on test data"
   ]
  },
  {
   "cell_type": "code",
   "execution_count": 49,
   "metadata": {
    "colab": {
     "base_uri": "https://localhost:8080/"
    },
    "id": "2yuh0o5Tdttm",
    "outputId": "656ed7a0-5015-466e-db71-d1a45ef0e621"
   },
   "outputs": [
    {
     "name": "stdout",
     "output_type": "stream",
     "text": [
      "Xgboosting with polynomial degree 2 results: \n",
      "\n",
      "Accuracy of Xgboosting with polynomial degree 2 : 89.6992 %\n",
      "classification report: \n",
      "              precision    recall  f1-score   support\n",
      "\n",
      "  fully paid       0.94      0.93      0.94     12461\n",
      " charged off       0.73      0.74      0.74      3033\n",
      "\n",
      "    accuracy                           0.90     15494\n",
      "   macro avg       0.84      0.84      0.84     15494\n",
      "weighted avg       0.90      0.90      0.90     15494\n",
      " \n",
      "\n",
      "confusion matrix:  \n",
      " [[11648   813]\n",
      " [  783  2250]]\n"
     ]
    }
   ],
   "source": [
    "performance_evaluator(y_test, xgb_test_predictions, 'Xgboosting with polynomial degree 2')"
   ]
  },
  {
   "cell_type": "markdown",
   "metadata": {
    "id": "L9gsUQVjnxIR"
   },
   "source": [
    "# 6. Hyperparameter tuning"
   ]
  },
  {
   "cell_type": "code",
   "execution_count": null,
   "metadata": {
    "id": "iEaEt3PsOuJj"
   },
   "outputs": [],
   "source": [
    "# parameters for hyperparameter tuning.\n",
    "params_grid = {\n",
    "    'n_estimators': [100, 200,300],\n",
    "    'learning_rate': [0.05,0.1,1],\n",
    "    'max_depth':[5,6,7,8],\n",
    "    'min_child_weight':[3,4,5],\n",
    "    'gamma': [0.4,0.5,0.6],\n",
    "    'scale_pos_weight': [5,8,10]\n",
    "}\n",
    "\n",
    "\n",
    "xgb = XGBClassifier()\n",
    "xgb_cv = GridSearchCV(xgb, params_grid)\n",
    "xgb_cv.fit(X_train, y_train)\n",
    "xgb_cv_test_predictions = xgb_cv.predict(X_test) # predict on test data"
   ]
  },
  {
   "cell_type": "code",
   "execution_count": 107,
   "metadata": {
    "colab": {
     "base_uri": "https://localhost:8080/"
    },
    "id": "syupRwiIeEZa",
    "outputId": "69129e81-a1c4-4982-9d19-22a60b0ae5f4"
   },
   "outputs": [
    {
     "name": "stdout",
     "output_type": "stream",
     "text": [
      "Xgboosting with parameter tuning results: \n",
      "\n",
      "Accuracy of Xgboosting with parameter tuning : 93.1457 %\n",
      "classification report: \n",
      "              precision    recall  f1-score   support\n",
      "\n",
      "  fully paid       0.95      0.96      0.96     12461\n",
      " charged off       0.83      0.81      0.82      3033\n",
      "\n",
      "    accuracy                           0.93     15494\n",
      "   macro avg       0.89      0.89      0.89     15494\n",
      "weighted avg       0.93      0.93      0.93     15494\n",
      " \n",
      "\n",
      "confusion matrix:  \n",
      " [[11968   493]\n",
      " [  569  2464]]\n"
     ]
    }
   ],
   "source": [
    "performance_evaluator(y_test, xgb_cv_test_predictions, 'Xgboosting with parameter tuning')"
   ]
  },
  {
   "cell_type": "markdown",
   "metadata": {
    "id": "XmS7SwTkqN0A"
   },
   "source": [
    "# 7. Conclusion\n",
    "\n"
   ]
  },
  {
   "cell_type": "markdown",
   "metadata": {
    "id": "lcXA2RcQd2xU"
   },
   "source": [
    "The main moto of the problem is to predict the loan charge off accounts. The data has 100k loans originated between oct 2015 and dec 2015. The loans which are paid properly are labelled ‘Fully paid’ and default loans are labelled as ‘charged off’. I found 80% of the loans are fully paid and the rest are charged off accounts. So I used scale_pos_weight parameter later in Xgboosting to handle the data imbalance. I have done some Exploratory data analysis to get an overview of the data. I have built the model as a binary classification model where 1 refers charge off and 0 refers the account will be fully paid. I observed different distributions of the data, how they are responding to the loan status, correlation between different input features and output feature etc. Based on these, I moved to data preprocessing. There are 150 features. Of these I removed multiple features initially. Over 14 features have 100% missing/null values. Many features have zero variance or close to zero variance. I removed such features. Many features are related to closing events or later events like loan recovery, loan settlement status etc which are also removed. If I include one of the features related to later events like recovery amount, I am getting close to perfect predictions (accuracy of 99% and F1 score of 0.98). \n",
    "\n",
    "As next steps, I generated a text feature generator which extracts features from text data. Some of the things done are like removing special characters like ‘%’ symbol in interest rate, ‘>, <, +’ symbols in employment length (+10 years) etc. I label encoded few features which have ordinal relationship like grades, subgrades. Grade A is considered better than grad F. I one hot encoded some features which doesn’t have any ordinal relationship like purpose of loan origination (debt consolidation, car loan etc.). Also, I removed features which are multicollinear. I imputed some missing values in features with appropriate values.\n",
    "\n",
    "Later I moved to model building. I used logistic regression as a baseline model using which we got an accuracy of 89% and macro F1 score of 0.82. One thing I noticed is the model is predicting well for fully paid accounts whereas it is stumbling on predicting charged off accounts perfectly. So I decided to concentrate on recall value of charged off accounts. The recall on charged off accounts using regression is 0.69. I then tried out SVM which performed slightly better than logistic regression model. Knn performed worse than both the models because of curse of dimensionality(recall is 0.35). \n",
    "\n",
    "I then choose Xgboosting which often works well on tabular data. It performs well due to multiple factors like building the tree in more regularized manner, using ensemble of models(boosting), sparse awareness and weighted quantile search. Vanilla Xgboosting perfomed better than logistic regression, SVM and knn. The accuracy is same(89%) but macro f1 score improved to 0.84 and the recall on charged off accounts improved to 0.74. It is increased by 0.5 when compared to logistic regression. So I decided to work more on Xgboosting and I initially tried polynomial features with a degree of 2. In general, the interaction terms of polynomials boost the performance. But on our data, I couldn’t find much difference. So I later moved to hyperparameter tuning. I used grid search cv. I finetuned multiple parameters like learning rate, max tree depth, minimum child weight etc. I also finetuned scale_pos_weight to handle data imbalance. Using tuning, the accuracy improved from 89% to 93%. Macro F1 score improved from 0.84 to 0.88. Recall on charged off accounts increased from 0.74 to 0.81 which is a significant improvement.  \n",
    "\n",
    "There is still lots of scope for model performance improvement. But given time constraints, I stopped going further. These are some of the places of improvement:\n",
    "\n",
    "1. I removed missing features above threshold of 0.97. I would love to see if there are any patterns in these missing features. They may have important relations with the output data.\n",
    "\n",
    "2. Use Bayesian optimization instead of grid search cv to perform hyperparameter tuning. But in general Bayesian optimization takes more time. Also I want to try out more broad range of \n",
    "hyperparameters. Due to time constraints, I limited to basic search. \n",
    "3.\tDo better feature engineering. There are over 150 features. Feature engineering will be time consuming, but proper feature engineering will almost always improve the model performance. I would love to go over each feature and see how to use it better in model building. I haven’t used any domain based knowledge and it often helps in building better models.\n",
    "\n",
    "4. Use neural network variants and see whether they perform better than traditional ML models like regression and boosting. Building neural network variant from scratch will take significant amount of time, so I limited to xgboosting.\n",
    "\n",
    "5.\tAlso, I think more data might have been better. Many features seem to be very close between fully paid and charged off accounts. So more data might have provided better signal or distinguished what traits of an account will more likely to be charged off. \n"
   ]
  },
  {
   "cell_type": "code",
   "execution_count": null,
   "metadata": {},
   "outputs": [],
   "source": []
  }
 ],
 "metadata": {
  "colab": {
   "collapsed_sections": [],
   "name": "settle4.ipynb",
   "provenance": [],
   "toc_visible": true
  },
  "kernelspec": {
   "display_name": "Python 3",
   "language": "python",
   "name": "python3"
  },
  "language_info": {
   "codemirror_mode": {
    "name": "ipython",
    "version": 3
   },
   "file_extension": ".py",
   "mimetype": "text/x-python",
   "name": "python",
   "nbconvert_exporter": "python",
   "pygments_lexer": "ipython3",
   "version": "3.7.9"
  }
 },
 "nbformat": 4,
 "nbformat_minor": 1
}
